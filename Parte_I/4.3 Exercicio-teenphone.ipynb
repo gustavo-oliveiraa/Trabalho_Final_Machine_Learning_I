{
 "cells": [
  {
   "cell_type": "markdown",
   "id": "a6ac2d5f",
   "metadata": {},
   "source": [
    "# Projeto: Classificação de Níveis de Vício em Celular usando SVM\n",
    "\n",
    "## Objetivo\n",
    "Desenvolver um modelo de Support Vector Machine (SVM) para classificar níveis de vício em celular entre adolescentes, aplicando técnicas de validação cruzada e otimização de hiperparâmetros.\n",
    "\n",
    "| Column Name               | Descrição                                                                 |\n",
    "|----------------------------|---------------------------------------------------------------------------|\n",
    "| **Age**                    | Idade do participante (em anos)                                           |\n",
    "| **Gender**                 | Identidade de gênero do participante                                      |\n",
    "| **Time_on_Social_Media**   | Tempo médio diário gasto em redes sociais (em horas)                      |\n",
    "| **Time_on_Education**      | Tempo diário dedicado a estudo/aprendizado (em horas)                     |\n",
    "| **Time_on_Gaming**         | Tempo diário dedicado a jogos eletrônicos (em horas)                      |\n",
    "| **Phone_Checks_Per_Day**   | Quantidade de vezes que o participante verifica o celular por dia          |\n",
    "| **Phone_Usage_Purpose**    | Finalidade principal do uso do celular (ex.: social, jogos, educação etc.) |\n",
    "| **Exercise_Hours**         | Quantidade de horas de atividade física por semana                        |\n",
    "| **Academic_Performance**   | Nota acadêmica ou GPA                                                     |\n",
    "| **IQ**                     | Pontuação de inteligência (auto-relatada ou estimada)                     |\n",
    "| **CG**                     | Nota Cumulativa (ou métrica geral de desempenho)                          |\n",
    "| **Internship_Experience**  | Indicação binária ou categórica de experiência de estágio                  |\n",
    "| **Projects_Completed**     | Número de projetos acadêmicos ou pessoais concluídos                      |\n",
    "| **Placement**              | Status de colocação (selecionado/não selecionado)                         |\n",
    "| **Addiction_Level**        | Medida numérica da gravidade da adição a celular/telas (a ser categorizada para ML) |\n"
   ]
  },
  {
   "cell_type": "markdown",
   "id": "51ff6c28",
   "metadata": {},
   "source": [
    "## 1. Importar Bibliotecas\n",
    "\n",
    "**Importe todas as bibliotecas necessárias para o projeto, incluindo:**\n",
    "- Bibliotecas para manipulação de dados\n",
    "- Bibliotecas para visualização\n",
    "- Bibliotecas para machine learning (sklearn)\n",
    "- Bibliotecas para tratamento de dados desbalanceados"
   ]
  },
  {
   "cell_type": "code",
   "execution_count": 1,
   "id": "cd79bfec",
   "metadata": {},
   "outputs": [],
   "source": [
    "import pandas as pd\n",
    "import numpy as np\n",
    "import matplotlib.pyplot as plt\n",
    "import sklearn as skl"
   ]
  },
  {
   "cell_type": "markdown",
   "id": "9992daab",
   "metadata": {},
   "source": [
    "## 2. Carregar e Explorar os Dados\n",
    "\n",
    "**Use pandas para ler teen_phone_addiction_dataset.csv como um DataFrame chamado df.**"
   ]
  },
  {
   "cell_type": "code",
   "execution_count": 2,
   "id": "load_data",
   "metadata": {},
   "outputs": [],
   "source": [
    "df = pd.read_csv('teen_phone_addiction_dataset.csv')"
   ]
  },
  {
   "cell_type": "markdown",
   "id": "45812998",
   "metadata": {},
   "source": [
    "**Use os métodos info(), head(), describe() e shape para entender a estrutura dos dados.**"
   ]
  },
  {
   "cell_type": "code",
   "execution_count": 3,
   "id": "def19e40",
   "metadata": {},
   "outputs": [
    {
     "name": "stdout",
     "output_type": "stream",
     "text": [
      "<class 'pandas.core.frame.DataFrame'>\n",
      "RangeIndex: 3000 entries, 0 to 2999\n",
      "Data columns (total 25 columns):\n",
      " #   Column                  Non-Null Count  Dtype  \n",
      "---  ------                  --------------  -----  \n",
      " 0   ID                      3000 non-null   int64  \n",
      " 1   Name                    3000 non-null   object \n",
      " 2   Age                     3000 non-null   int64  \n",
      " 3   Gender                  3000 non-null   object \n",
      " 4   Location                3000 non-null   object \n",
      " 5   School_Grade            3000 non-null   object \n",
      " 6   Daily_Usage_Hours       3000 non-null   float64\n",
      " 7   Sleep_Hours             3000 non-null   float64\n",
      " 8   Academic_Performance    3000 non-null   int64  \n",
      " 9   Social_Interactions     3000 non-null   int64  \n",
      " 10  Exercise_Hours          3000 non-null   float64\n",
      " 11  Anxiety_Level           3000 non-null   int64  \n",
      " 12  Depression_Level        3000 non-null   int64  \n",
      " 13  Self_Esteem             3000 non-null   int64  \n",
      " 14  Parental_Control        3000 non-null   int64  \n",
      " 15  Screen_Time_Before_Bed  3000 non-null   float64\n",
      " 16  Phone_Checks_Per_Day    3000 non-null   int64  \n",
      " 17  Apps_Used_Daily         3000 non-null   int64  \n",
      " 18  Time_on_Social_Media    3000 non-null   float64\n",
      " 19  Time_on_Gaming          3000 non-null   float64\n",
      " 20  Time_on_Education       3000 non-null   float64\n",
      " 21  Phone_Usage_Purpose     3000 non-null   object \n",
      " 22  Family_Communication    3000 non-null   int64  \n",
      " 23  Weekend_Usage_Hours     3000 non-null   float64\n",
      " 24  Addiction_Level         3000 non-null   float64\n",
      "dtypes: float64(9), int64(11), object(5)\n",
      "memory usage: 586.1+ KB\n"
     ]
    }
   ],
   "source": [
    "df.info()"
   ]
  },
  {
   "cell_type": "code",
   "execution_count": null,
   "id": "f3c14742-84b8-4638-a82f-d29f64008c74",
   "metadata": {},
   "outputs": [],
   "source": [
    "df.head()"
   ]
  },
  {
   "cell_type": "code",
   "execution_count": null,
   "id": "ccce4f64-e3dd-4431-b5d5-2916d4fc8fdb",
   "metadata": {},
   "outputs": [],
   "source": [
    "df.describe()"
   ]
  },
  {
   "cell_type": "code",
   "execution_count": null,
   "id": "af1187d8-2cba-4cee-be75-36356bbe0f01",
   "metadata": {},
   "outputs": [],
   "source": [
    "df.shape"
   ]
  },
  {
   "cell_type": "markdown",
   "id": "check_nulls",
   "metadata": {},
   "source": [
    "**Verifique se existem valores nulos no dataset e exiba a quantidade por coluna.**"
   ]
  },
  {
   "cell_type": "code",
   "execution_count": null,
   "id": "null_check",
   "metadata": {},
   "outputs": [],
   "source": [
    "df.isnull().sum()"
   ]
  },
  {
   "cell_type": "markdown",
   "id": "2a89c34c",
   "metadata": {},
   "source": [
    "## 3. Análise Exploratória de Dados (EDA)"
   ]
  },
  {
   "cell_type": "markdown",
   "id": "bf34012e",
   "metadata": {},
   "source": [
    "**Crie um heatmap de correlação entre as variáveis numéricas, com valores numéricos anotados.**"
   ]
  },
  {
   "cell_type": "code",
   "execution_count": 4,
   "id": "db839558",
   "metadata": {},
   "outputs": [],
   "source": [
    "import seaborn as sns"
   ]
  },
  {
   "cell_type": "code",
   "execution_count": null,
   "id": "09dc3625-3b2b-4906-9ebd-0e0a9b421a25",
   "metadata": {},
   "outputs": [],
   "source": [
    "plt.figure(figsize=(16, 10))\n",
    "sns.heatmap(df.corr(numeric_only=True),annot=True)"
   ]
  },
  {
   "cell_type": "markdown",
   "id": "348f37ad",
   "metadata": {},
   "source": [
    "**Crie uma visualização da distribuição de Addiction_Level. Analise se será necessário criar categorias.**"
   ]
  },
  {
   "cell_type": "code",
   "execution_count": null,
   "id": "126e9658",
   "metadata": {},
   "outputs": [],
   "source": [
    "plt.figure(figsize=(8,5))\n",
    "sns.histplot(data=df, x=\"Addiction_Level\", bins=10, kde=True)\n",
    "plt.title(\"Distribuição de Addiction_Level\")\n",
    "plt.xlabel(\"Addiction_Level\")\n",
    "plt.ylabel(\"Frequência\")\n",
    "plt.show()"
   ]
  },
  {
   "cell_type": "code",
   "execution_count": null,
   "id": "facaf01b-7708-4fd9-9e35-70bb5a5e1a73",
   "metadata": {},
   "outputs": [],
   "source": [
    "plt.figure(figsize=(6,4))\n",
    "sns.boxplot(data=df, x=\"Addiction_Level\")\n",
    "plt.title(\"Boxplot de Addiction_Level\")\n",
    "plt.show()"
   ]
  },
  {
   "cell_type": "markdown",
   "id": "e8212c4b",
   "metadata": {},
   "source": [
    "**Crie um gráfico de barras mostrando a média de horas de uso diário (Daily_Usage_Hours) por faixa etária.**"
   ]
  },
  {
   "cell_type": "code",
   "execution_count": null,
   "id": "be182baa",
   "metadata": {},
   "outputs": [],
   "source": [
    "# professor nessa parte quando eu executo, mais pra frente da problema na hora de realizar o smote, então pode não executar para \n",
    "# que o resto do programa funcione, depois gostaria de ajuda para entender melhor qual o problema que da\n",
    "bins = [0, 17, 24, 34, 49, 120]\n",
    "labels = ['0-17', '18-24', '25-34', '35-49', '50+']\n",
    "\n",
    "\n",
    "df['Age_Group'] = pd.cut(df['Age'], bins=bins, labels=labels)\n",
    "\n",
    "plt.figure(figsize=(8,5))\n",
    "sns.barplot(x='Age_Group', y='Daily_Usage_Hours', data=media_diaria, palette='Blues_d')\n",
    "plt.xlabel('Faixa Etária')\n",
    "plt.ylabel('Média de Horas de Uso Diário')\n",
    "plt.title('Média de Horas de Uso Diário por Faixa Etária')\n",
    "plt.show()"
   ]
  },
  {
   "cell_type": "markdown",
   "id": "3330f8a3",
   "metadata": {},
   "source": [
    "**Crie um boxplot comparando os níveis de ansiedade (Anxiety_Level) entre diferentes gêneros.**"
   ]
  },
  {
   "cell_type": "code",
   "execution_count": null,
   "id": "38e6af3d",
   "metadata": {},
   "outputs": [],
   "source": [
    "plt.figure(figsize=(8,5))\n",
    "sns.boxplot(x='Gender', y='Anxiety_Level', data=df, palette='Set2')\n",
    "plt.xlabel('Gênero')\n",
    "plt.ylabel('Nível de Ansiedade')\n",
    "plt.title('Comparação do Nível de Ansiedade por Gênero')\n",
    "plt.show()"
   ]
  },
  {
   "cell_type": "markdown",
   "id": "afd90872",
   "metadata": {},
   "source": [
    "**Analise a relação entre Performance Acadêmica e Horas de Uso Diário através de um scatter plot.**"
   ]
  },
  {
   "cell_type": "code",
   "execution_count": null,
   "id": "social_plot",
   "metadata": {},
   "outputs": [],
   "source": [
    "plt.figure(figsize=(8,6))\n",
    "sns.regplot(x='Time_on_Education', y='Academic_Performance', data=df, scatter_kws={'color':'blue'}, line_kws={'color':'red'})\n",
    "plt.xlabel('Horas de Estudo Diário')\n",
    "plt.ylabel('Performance Acadêmica')\n",
    "plt.title('Relação entre Performance Acadêmica e Horas de Estudo Diário')\n",
    "plt.show()\n"
   ]
  },
  {
   "cell_type": "markdown",
   "id": "social_media",
   "metadata": {},
   "source": [
    "**Crie um gráfico mostrando a distribuição do tempo gasto em redes sociais (Time_on_Social_Media) versus o nível de autoestima (Self_Esteem).**"
   ]
  },
  {
   "cell_type": "code",
   "execution_count": null,
   "id": "3d54a419-002b-47eb-b077-f5ccf3955c28",
   "metadata": {},
   "outputs": [],
   "source": [
    "plt.figure(figsize=(8,6))\n",
    "sns.regplot(x='Time_on_Social_Media', y='Self_Esteem', data=df, scatter_kws={'color':'purple'}, line_kws={'color':'red'})\n",
    "plt.xlabel('Tempo em Redes Sociais (horas)')\n",
    "plt.ylabel('Nível de Autoestima')\n",
    "plt.title('Relação entre Autoestima e Tempo em Redes Sociais')\n",
    "plt.show()\n"
   ]
  },
  {
   "cell_type": "markdown",
   "id": "0e8e6f1e",
   "metadata": {},
   "source": [
    "## 4. Pré-processamento dos Dados"
   ]
  },
  {
   "cell_type": "markdown",
   "id": "create_target",
   "metadata": {},
   "source": [
    "**Crie uma variável target categórica baseada em Addiction_Level:**\n",
    "- Baixo: Addiction_Level < 3\n",
    "- Médio: 3 <= Addiction_Level < 6\n",
    "- Alto: Addiction_Level >= 6"
   ]
  },
  {
   "cell_type": "code",
   "execution_count": 5,
   "id": "target_creation",
   "metadata": {},
   "outputs": [
    {
     "name": "stdout",
     "output_type": "stream",
     "text": [
      "Addiction_Category\n",
      "Alto     2765\n",
      "Médio     221\n",
      "Baixo      14\n",
      "Name: count, dtype: int64\n"
     ]
    }
   ],
   "source": [
    "df['Addiction_Category'] = pd.cut(\n",
    "    df['Addiction_Level'],\n",
    "    bins=[-np.inf, 3, 6, np.inf],\n",
    "    labels=['Baixo', 'Médio', 'Alto']\n",
    ")\n",
    "\n",
    "print(df['Addiction_Category'].value_counts())\n"
   ]
  },
  {
   "cell_type": "markdown",
   "id": "drop_cols",
   "metadata": {},
   "source": [
    "**Remova colunas desnecessárias (ID, Name) e a coluna Addiction_Level original.**"
   ]
  },
  {
   "cell_type": "code",
   "execution_count": 6,
   "id": "4c27787b",
   "metadata": {},
   "outputs": [
    {
     "data": {
      "text/html": [
       "<div>\n",
       "<style scoped>\n",
       "    .dataframe tbody tr th:only-of-type {\n",
       "        vertical-align: middle;\n",
       "    }\n",
       "\n",
       "    .dataframe tbody tr th {\n",
       "        vertical-align: top;\n",
       "    }\n",
       "\n",
       "    .dataframe thead th {\n",
       "        text-align: right;\n",
       "    }\n",
       "</style>\n",
       "<table border=\"1\" class=\"dataframe\">\n",
       "  <thead>\n",
       "    <tr style=\"text-align: right;\">\n",
       "      <th></th>\n",
       "      <th>Age</th>\n",
       "      <th>Gender</th>\n",
       "      <th>Location</th>\n",
       "      <th>School_Grade</th>\n",
       "      <th>Daily_Usage_Hours</th>\n",
       "      <th>Sleep_Hours</th>\n",
       "      <th>Academic_Performance</th>\n",
       "      <th>Social_Interactions</th>\n",
       "      <th>Exercise_Hours</th>\n",
       "      <th>Anxiety_Level</th>\n",
       "      <th>...</th>\n",
       "      <th>Screen_Time_Before_Bed</th>\n",
       "      <th>Phone_Checks_Per_Day</th>\n",
       "      <th>Apps_Used_Daily</th>\n",
       "      <th>Time_on_Social_Media</th>\n",
       "      <th>Time_on_Gaming</th>\n",
       "      <th>Time_on_Education</th>\n",
       "      <th>Phone_Usage_Purpose</th>\n",
       "      <th>Family_Communication</th>\n",
       "      <th>Weekend_Usage_Hours</th>\n",
       "      <th>Addiction_Category</th>\n",
       "    </tr>\n",
       "  </thead>\n",
       "  <tbody>\n",
       "    <tr>\n",
       "      <th>0</th>\n",
       "      <td>13</td>\n",
       "      <td>Female</td>\n",
       "      <td>Hansonfort</td>\n",
       "      <td>9th</td>\n",
       "      <td>4.0</td>\n",
       "      <td>6.1</td>\n",
       "      <td>78</td>\n",
       "      <td>5</td>\n",
       "      <td>0.1</td>\n",
       "      <td>10</td>\n",
       "      <td>...</td>\n",
       "      <td>1.4</td>\n",
       "      <td>86</td>\n",
       "      <td>19</td>\n",
       "      <td>3.6</td>\n",
       "      <td>1.7</td>\n",
       "      <td>1.2</td>\n",
       "      <td>Browsing</td>\n",
       "      <td>4</td>\n",
       "      <td>8.7</td>\n",
       "      <td>Alto</td>\n",
       "    </tr>\n",
       "    <tr>\n",
       "      <th>1</th>\n",
       "      <td>17</td>\n",
       "      <td>Female</td>\n",
       "      <td>Theodorefort</td>\n",
       "      <td>7th</td>\n",
       "      <td>5.5</td>\n",
       "      <td>6.5</td>\n",
       "      <td>70</td>\n",
       "      <td>5</td>\n",
       "      <td>0.0</td>\n",
       "      <td>3</td>\n",
       "      <td>...</td>\n",
       "      <td>0.9</td>\n",
       "      <td>96</td>\n",
       "      <td>9</td>\n",
       "      <td>1.1</td>\n",
       "      <td>4.0</td>\n",
       "      <td>1.8</td>\n",
       "      <td>Browsing</td>\n",
       "      <td>2</td>\n",
       "      <td>5.3</td>\n",
       "      <td>Alto</td>\n",
       "    </tr>\n",
       "    <tr>\n",
       "      <th>2</th>\n",
       "      <td>13</td>\n",
       "      <td>Other</td>\n",
       "      <td>Lindseystad</td>\n",
       "      <td>11th</td>\n",
       "      <td>5.8</td>\n",
       "      <td>5.5</td>\n",
       "      <td>93</td>\n",
       "      <td>8</td>\n",
       "      <td>0.8</td>\n",
       "      <td>2</td>\n",
       "      <td>...</td>\n",
       "      <td>0.5</td>\n",
       "      <td>137</td>\n",
       "      <td>8</td>\n",
       "      <td>0.3</td>\n",
       "      <td>1.5</td>\n",
       "      <td>0.4</td>\n",
       "      <td>Education</td>\n",
       "      <td>6</td>\n",
       "      <td>5.7</td>\n",
       "      <td>Alto</td>\n",
       "    </tr>\n",
       "    <tr>\n",
       "      <th>3</th>\n",
       "      <td>18</td>\n",
       "      <td>Female</td>\n",
       "      <td>West Anthony</td>\n",
       "      <td>12th</td>\n",
       "      <td>3.1</td>\n",
       "      <td>3.9</td>\n",
       "      <td>78</td>\n",
       "      <td>8</td>\n",
       "      <td>1.6</td>\n",
       "      <td>9</td>\n",
       "      <td>...</td>\n",
       "      <td>1.4</td>\n",
       "      <td>128</td>\n",
       "      <td>7</td>\n",
       "      <td>3.1</td>\n",
       "      <td>1.6</td>\n",
       "      <td>0.8</td>\n",
       "      <td>Social Media</td>\n",
       "      <td>8</td>\n",
       "      <td>3.0</td>\n",
       "      <td>Alto</td>\n",
       "    </tr>\n",
       "    <tr>\n",
       "      <th>4</th>\n",
       "      <td>14</td>\n",
       "      <td>Other</td>\n",
       "      <td>Port Lindsaystad</td>\n",
       "      <td>9th</td>\n",
       "      <td>2.5</td>\n",
       "      <td>6.7</td>\n",
       "      <td>56</td>\n",
       "      <td>4</td>\n",
       "      <td>1.1</td>\n",
       "      <td>1</td>\n",
       "      <td>...</td>\n",
       "      <td>1.0</td>\n",
       "      <td>96</td>\n",
       "      <td>20</td>\n",
       "      <td>2.6</td>\n",
       "      <td>0.9</td>\n",
       "      <td>1.1</td>\n",
       "      <td>Gaming</td>\n",
       "      <td>10</td>\n",
       "      <td>3.7</td>\n",
       "      <td>Alto</td>\n",
       "    </tr>\n",
       "  </tbody>\n",
       "</table>\n",
       "<p>5 rows × 23 columns</p>\n",
       "</div>"
      ],
      "text/plain": [
       "   Age  Gender          Location School_Grade  Daily_Usage_Hours  Sleep_Hours  \\\n",
       "0   13  Female        Hansonfort          9th                4.0          6.1   \n",
       "1   17  Female      Theodorefort          7th                5.5          6.5   \n",
       "2   13   Other       Lindseystad         11th                5.8          5.5   \n",
       "3   18  Female      West Anthony         12th                3.1          3.9   \n",
       "4   14   Other  Port Lindsaystad          9th                2.5          6.7   \n",
       "\n",
       "   Academic_Performance  Social_Interactions  Exercise_Hours  Anxiety_Level  \\\n",
       "0                    78                    5             0.1             10   \n",
       "1                    70                    5             0.0              3   \n",
       "2                    93                    8             0.8              2   \n",
       "3                    78                    8             1.6              9   \n",
       "4                    56                    4             1.1              1   \n",
       "\n",
       "   ...  Screen_Time_Before_Bed  Phone_Checks_Per_Day  Apps_Used_Daily  \\\n",
       "0  ...                     1.4                    86               19   \n",
       "1  ...                     0.9                    96                9   \n",
       "2  ...                     0.5                   137                8   \n",
       "3  ...                     1.4                   128                7   \n",
       "4  ...                     1.0                    96               20   \n",
       "\n",
       "   Time_on_Social_Media  Time_on_Gaming  Time_on_Education  \\\n",
       "0                   3.6             1.7                1.2   \n",
       "1                   1.1             4.0                1.8   \n",
       "2                   0.3             1.5                0.4   \n",
       "3                   3.1             1.6                0.8   \n",
       "4                   2.6             0.9                1.1   \n",
       "\n",
       "   Phone_Usage_Purpose  Family_Communication  Weekend_Usage_Hours  \\\n",
       "0             Browsing                     4                  8.7   \n",
       "1             Browsing                     2                  5.3   \n",
       "2            Education                     6                  5.7   \n",
       "3         Social Media                     8                  3.0   \n",
       "4               Gaming                    10                  3.7   \n",
       "\n",
       "  Addiction_Category  \n",
       "0               Alto  \n",
       "1               Alto  \n",
       "2               Alto  \n",
       "3               Alto  \n",
       "4               Alto  \n",
       "\n",
       "[5 rows x 23 columns]"
      ]
     },
     "execution_count": 6,
     "metadata": {},
     "output_type": "execute_result"
    }
   ],
   "source": [
    "df.drop(columns=['ID', 'Name', 'Addiction_Level'], axis=1, inplace=True)\n",
    "\n",
    "df.head()"
   ]
  },
  {
   "cell_type": "markdown",
   "id": "encode_categorical",
   "metadata": {},
   "source": [
    "**Aplique encoding nas variáveis categóricas (Gender, Location, School_Grade, Phone_Usage_Purpose).**"
   ]
  },
  {
   "cell_type": "code",
   "execution_count": 7,
   "id": "ee9bcc69",
   "metadata": {},
   "outputs": [],
   "source": [
    "from sklearn.preprocessing import LabelEncoder"
   ]
  },
  {
   "cell_type": "code",
   "execution_count": 8,
   "id": "77358d52-2f61-458e-baa7-b2c20a67b9d3",
   "metadata": {},
   "outputs": [],
   "source": [
    "ordinal_cols = ['School_Grade']\n",
    "le = LabelEncoder()\n",
    "\n",
    "for col in ordinal_cols:\n",
    "    df[col] = le.fit_transform(df[col])"
   ]
  },
  {
   "cell_type": "code",
   "execution_count": 9,
   "id": "029ba707-fa9f-497c-a46b-c39da5b23563",
   "metadata": {},
   "outputs": [],
   "source": [
    "nominal_cols = ['Gender', 'Location', 'Phone_Usage_Purpose']\n",
    "\n",
    "df = pd.get_dummies(df, columns=nominal_cols, drop_first=True)"
   ]
  },
  {
   "cell_type": "code",
   "execution_count": 10,
   "id": "731724f6-ad99-4a26-b30c-100a20acdd25",
   "metadata": {},
   "outputs": [],
   "source": [
    "df = df.astype({col: 'int' for col in df.select_dtypes('bool').columns})"
   ]
  },
  {
   "cell_type": "markdown",
   "id": "feature_engineering",
   "metadata": {},
   "source": [
    "**Crie 3 novas features baseadas nos dados existentes:**\n",
    "- Razão entre tempo em redes sociais e tempo total de uso\n",
    "- Média de verificações por hora de uso\n",
    "- Índice de impacto na saúde (combinando sono, ansiedade e depressão)"
   ]
  },
  {
   "cell_type": "code",
   "execution_count": 110,
   "id": "0c10881e",
   "metadata": {},
   "outputs": [
    {
     "name": "stderr",
     "output_type": "stream",
     "text": [
      "C:\\Users\\PC\\AppData\\Local\\Temp\\ipykernel_17832\\4248448228.py:1: PerformanceWarning: DataFrame is highly fragmented.  This is usually the result of calling `frame.insert` many times, which has poor performance.  Consider joining all columns at once using pd.concat(axis=1) instead. To get a de-fragmented frame, use `newframe = frame.copy()`\n",
      "  df['Social_Media_Ratio'] = df['Time_on_Social_Media'] / df['Daily_Usage_Hours']\n"
     ]
    },
    {
     "data": {
      "text/html": [
       "<div>\n",
       "<style scoped>\n",
       "    .dataframe tbody tr th:only-of-type {\n",
       "        vertical-align: middle;\n",
       "    }\n",
       "\n",
       "    .dataframe tbody tr th {\n",
       "        vertical-align: top;\n",
       "    }\n",
       "\n",
       "    .dataframe thead th {\n",
       "        text-align: right;\n",
       "    }\n",
       "</style>\n",
       "<table border=\"1\" class=\"dataframe\">\n",
       "  <thead>\n",
       "    <tr style=\"text-align: right;\">\n",
       "      <th></th>\n",
       "      <th>Social_Media_Ratio</th>\n",
       "    </tr>\n",
       "  </thead>\n",
       "  <tbody>\n",
       "    <tr>\n",
       "      <th>0</th>\n",
       "      <td>0.900000</td>\n",
       "    </tr>\n",
       "    <tr>\n",
       "      <th>1</th>\n",
       "      <td>0.200000</td>\n",
       "    </tr>\n",
       "    <tr>\n",
       "      <th>2</th>\n",
       "      <td>0.051724</td>\n",
       "    </tr>\n",
       "    <tr>\n",
       "      <th>3</th>\n",
       "      <td>1.000000</td>\n",
       "    </tr>\n",
       "    <tr>\n",
       "      <th>4</th>\n",
       "      <td>1.040000</td>\n",
       "    </tr>\n",
       "  </tbody>\n",
       "</table>\n",
       "</div>"
      ],
      "text/plain": [
       "   Social_Media_Ratio\n",
       "0            0.900000\n",
       "1            0.200000\n",
       "2            0.051724\n",
       "3            1.000000\n",
       "4            1.040000"
      ]
     },
     "execution_count": 110,
     "metadata": {},
     "output_type": "execute_result"
    }
   ],
   "source": [
    "df['Social_Media_Ratio'] = df['Time_on_Social_Media'] / df['Daily_Usage_Hours']\n",
    "df[['Social_Media_Ratio']].head()"
   ]
  },
  {
   "cell_type": "code",
   "execution_count": 111,
   "id": "83aebf71-9bcf-4b57-9be1-a0b288dd919a",
   "metadata": {},
   "outputs": [
    {
     "name": "stderr",
     "output_type": "stream",
     "text": [
      "C:\\Users\\PC\\AppData\\Local\\Temp\\ipykernel_17832\\1585340627.py:1: PerformanceWarning: DataFrame is highly fragmented.  This is usually the result of calling `frame.insert` many times, which has poor performance.  Consider joining all columns at once using pd.concat(axis=1) instead. To get a de-fragmented frame, use `newframe = frame.copy()`\n",
      "  df['Checks_per_Hour'] = df['Phone_Checks_Per_Day'] / df['Daily_Usage_Hours']\n"
     ]
    },
    {
     "data": {
      "text/html": [
       "<div>\n",
       "<style scoped>\n",
       "    .dataframe tbody tr th:only-of-type {\n",
       "        vertical-align: middle;\n",
       "    }\n",
       "\n",
       "    .dataframe tbody tr th {\n",
       "        vertical-align: top;\n",
       "    }\n",
       "\n",
       "    .dataframe thead th {\n",
       "        text-align: right;\n",
       "    }\n",
       "</style>\n",
       "<table border=\"1\" class=\"dataframe\">\n",
       "  <thead>\n",
       "    <tr style=\"text-align: right;\">\n",
       "      <th></th>\n",
       "      <th>Checks_per_Hour</th>\n",
       "    </tr>\n",
       "  </thead>\n",
       "  <tbody>\n",
       "    <tr>\n",
       "      <th>0</th>\n",
       "      <td>21.500000</td>\n",
       "    </tr>\n",
       "    <tr>\n",
       "      <th>1</th>\n",
       "      <td>17.454545</td>\n",
       "    </tr>\n",
       "    <tr>\n",
       "      <th>2</th>\n",
       "      <td>23.620690</td>\n",
       "    </tr>\n",
       "    <tr>\n",
       "      <th>3</th>\n",
       "      <td>41.290323</td>\n",
       "    </tr>\n",
       "    <tr>\n",
       "      <th>4</th>\n",
       "      <td>38.400000</td>\n",
       "    </tr>\n",
       "  </tbody>\n",
       "</table>\n",
       "</div>"
      ],
      "text/plain": [
       "   Checks_per_Hour\n",
       "0        21.500000\n",
       "1        17.454545\n",
       "2        23.620690\n",
       "3        41.290323\n",
       "4        38.400000"
      ]
     },
     "execution_count": 111,
     "metadata": {},
     "output_type": "execute_result"
    }
   ],
   "source": [
    "df['Checks_per_Hour'] = df['Phone_Checks_Per_Day'] / df['Daily_Usage_Hours']\n",
    "df[['Checks_per_Hour']].head()"
   ]
  },
  {
   "cell_type": "code",
   "execution_count": null,
   "id": "4cc7ce5f-bc0f-4176-9cff-da5cc605e3ea",
   "metadata": {},
   "outputs": [],
   "source": [
    "from sklearn.preprocessing import MinMaxScaler"
   ]
  },
  {
   "cell_type": "code",
   "execution_count": 112,
   "id": "599980e4-3096-4bc7-96ed-db56bca8c7a5",
   "metadata": {},
   "outputs": [
    {
     "name": "stderr",
     "output_type": "stream",
     "text": [
      "C:\\Users\\PC\\AppData\\Local\\Temp\\ipykernel_17832\\1801761194.py:2: PerformanceWarning: DataFrame is highly fragmented.  This is usually the result of calling `frame.insert` many times, which has poor performance.  Consider joining all columns at once using pd.concat(axis=1) instead. To get a de-fragmented frame, use `newframe = frame.copy()`\n",
      "  df[['Sleep_Norm', 'Anxiety_Norm', 'Depression_Norm']] = scaler.fit_transform(\n",
      "C:\\Users\\PC\\AppData\\Local\\Temp\\ipykernel_17832\\1801761194.py:2: PerformanceWarning: DataFrame is highly fragmented.  This is usually the result of calling `frame.insert` many times, which has poor performance.  Consider joining all columns at once using pd.concat(axis=1) instead. To get a de-fragmented frame, use `newframe = frame.copy()`\n",
      "  df[['Sleep_Norm', 'Anxiety_Norm', 'Depression_Norm']] = scaler.fit_transform(\n",
      "C:\\Users\\PC\\AppData\\Local\\Temp\\ipykernel_17832\\1801761194.py:2: PerformanceWarning: DataFrame is highly fragmented.  This is usually the result of calling `frame.insert` many times, which has poor performance.  Consider joining all columns at once using pd.concat(axis=1) instead. To get a de-fragmented frame, use `newframe = frame.copy()`\n",
      "  df[['Sleep_Norm', 'Anxiety_Norm', 'Depression_Norm']] = scaler.fit_transform(\n",
      "C:\\Users\\PC\\AppData\\Local\\Temp\\ipykernel_17832\\1801761194.py:6: PerformanceWarning: DataFrame is highly fragmented.  This is usually the result of calling `frame.insert` many times, which has poor performance.  Consider joining all columns at once using pd.concat(axis=1) instead. To get a de-fragmented frame, use `newframe = frame.copy()`\n",
      "  df['Health_Impact_Index'] = (1 - df['Sleep_Norm']) + df['Anxiety_Norm'] + df['Depression_Norm']\n"
     ]
    }
   ],
   "source": [
    "scaler = MinMaxScaler()\n",
    "df[['Sleep_Norm', 'Anxiety_Norm', 'Depression_Norm']] = scaler.fit_transform(\n",
    "    df[['Sleep_Hours', 'Anxiety_Level', 'Depression_Level']]\n",
    ")\n",
    "\n",
    "df['Health_Impact_Index'] = (1 - df['Sleep_Norm']) + df['Anxiety_Norm'] + df['Depression_Norm']"
   ]
  },
  {
   "cell_type": "code",
   "execution_count": 113,
   "id": "5721a38e-2679-4d4e-9a7b-f8c2b6771df0",
   "metadata": {},
   "outputs": [
    {
     "data": {
      "text/html": [
       "<div>\n",
       "<style scoped>\n",
       "    .dataframe tbody tr th:only-of-type {\n",
       "        vertical-align: middle;\n",
       "    }\n",
       "\n",
       "    .dataframe tbody tr th {\n",
       "        vertical-align: top;\n",
       "    }\n",
       "\n",
       "    .dataframe thead th {\n",
       "        text-align: right;\n",
       "    }\n",
       "</style>\n",
       "<table border=\"1\" class=\"dataframe\">\n",
       "  <thead>\n",
       "    <tr style=\"text-align: right;\">\n",
       "      <th></th>\n",
       "      <th>Health_Impact_Index</th>\n",
       "    </tr>\n",
       "  </thead>\n",
       "  <tbody>\n",
       "    <tr>\n",
       "      <th>0</th>\n",
       "      <td>1.779365</td>\n",
       "    </tr>\n",
       "    <tr>\n",
       "      <th>1</th>\n",
       "      <td>1.388889</td>\n",
       "    </tr>\n",
       "    <tr>\n",
       "      <th>2</th>\n",
       "      <td>0.976190</td>\n",
       "    </tr>\n",
       "    <tr>\n",
       "      <th>3</th>\n",
       "      <td>2.760317</td>\n",
       "    </tr>\n",
       "    <tr>\n",
       "      <th>4</th>\n",
       "      <td>0.915873</td>\n",
       "    </tr>\n",
       "  </tbody>\n",
       "</table>\n",
       "</div>"
      ],
      "text/plain": [
       "   Health_Impact_Index\n",
       "0             1.779365\n",
       "1             1.388889\n",
       "2             0.976190\n",
       "3             2.760317\n",
       "4             0.915873"
      ]
     },
     "execution_count": 113,
     "metadata": {},
     "output_type": "execute_result"
    }
   ],
   "source": [
    "df[['Health_Impact_Index']].head()"
   ]
  },
  {
   "cell_type": "markdown",
   "id": "c87d42da",
   "metadata": {},
   "source": [
    "## 5. Tratamento de Classes Desbalanceadas"
   ]
  },
  {
   "cell_type": "markdown",
   "id": "check_balance",
   "metadata": {},
   "source": [
    "**Verifique a distribuição das classes na variável target e visualize com um gráfico de barras.**"
   ]
  },
  {
   "cell_type": "code",
   "execution_count": 11,
   "id": "79a5c005",
   "metadata": {},
   "outputs": [
    {
     "data": {
      "text/plain": [
       "Addiction_Category\n",
       "Alto     2765\n",
       "Médio     221\n",
       "Baixo      14\n",
       "Name: count, dtype: int64"
      ]
     },
     "execution_count": 11,
     "metadata": {},
     "output_type": "execute_result"
    }
   ],
   "source": [
    "df.Addiction_Category.value_counts()"
   ]
  },
  {
   "cell_type": "code",
   "execution_count": 12,
   "id": "0ba103ec-dc50-485c-a3fb-012dcaa0ff87",
   "metadata": {},
   "outputs": [
    {
     "name": "stderr",
     "output_type": "stream",
     "text": [
      "C:\\Users\\PC\\AppData\\Local\\Temp\\ipykernel_20308\\2309951398.py:2: FutureWarning: \n",
      "\n",
      "Passing `palette` without assigning `hue` is deprecated and will be removed in v0.14.0. Assign the `x` variable to `hue` and set `legend=False` for the same effect.\n",
      "\n",
      "  sns.countplot(x='Addiction_Category', data=df, palette='Blues_d', order=df['Addiction_Category'].value_counts().index)\n"
     ]
    },
    {
     "data": {
      "image/png": "[encoded data removed]",
      "text/plain": [
       "<Figure size 600x400 with 1 Axes>"
      ]
     },
     "metadata": {},
     "output_type": "display_data"
    }
   ],
   "source": [
    "plt.figure(figsize=(6,4))\n",
    "sns.countplot(x='Addiction_Category', data=df, palette='Blues_d', order=df['Addiction_Category'].value_counts().index)\n",
    "plt.xlabel('Categoria de Dependência')\n",
    "plt.ylabel('Quantidade de Usuários')\n",
    "plt.title('Distribuição das Classes de Addiction_Category')\n",
    "plt.show()"
   ]
  },
  {
   "cell_type": "markdown",
   "id": "split_data",
   "metadata": {},
   "source": [
    "**Separe os dados em features (X) e target (y).**"
   ]
  },
  {
   "cell_type": "code",
   "execution_count": 13,
   "id": "xy_split",
   "metadata": {},
   "outputs": [],
   "source": [
    "X = df.drop('Addiction_Category', axis=1)\n",
    "y = df['Addiction_Category']"
   ]
  },
  {
   "cell_type": "markdown",
   "id": "379d96b9",
   "metadata": {},
   "source": [
    "### 5.1 Oversampling com SMOTE\n",
    "\n",
    "**Aplique SMOTE para balancear as classes e mostre a nova distribuição.**"
   ]
  },
  {
   "cell_type": "code",
   "execution_count": 14,
   "id": "d05d44f3-d9e9-4b1e-9fca-612e85e60341",
   "metadata": {},
   "outputs": [
    {
     "name": "stdout",
     "output_type": "stream",
     "text": [
      "NaN restantes: 0\n",
      "Inf restantes: 0\n"
     ]
    }
   ],
   "source": [
    "# Substituir valores infinitos por NaN\n",
    "X = X.replace([np.inf, -np.inf], np.nan)\n",
    "\n",
    "# Tratar valores NaN preenchendo com a média da coluna\n",
    "X = X.fillna(X.mean())\n",
    "\n",
    "print(\"NaN restantes:\", X.isna().sum().sum())\n",
    "print(\"Inf restantes:\", np.isinf(X.values).sum())\n"
   ]
  },
  {
   "cell_type": "code",
   "execution_count": 15,
   "id": "8b8afd7b",
   "metadata": {},
   "outputs": [],
   "source": [
    "from imblearn.over_sampling import SMOTE\n",
    "from collections import Counter"
   ]
  },
  {
   "cell_type": "code",
   "execution_count": 16,
   "id": "eed936a4-343f-48f9-8617-7092030b8921",
   "metadata": {},
   "outputs": [
    {
     "name": "stdout",
     "output_type": "stream",
     "text": [
      "Distribuição antes do SMOTE: Counter({'Alto': 2765, 'Médio': 221, 'Baixo': 14})\n",
      "Distribuição depois do SMOTE: Counter({'Alto': 2765, 'Médio': 2765, 'Baixo': 2765})\n"
     ]
    }
   ],
   "source": [
    "smote = SMOTE(random_state=42)\n",
    "X_over, y_over = smote.fit_resample(X, y)\n",
    "\n",
    "print(\"Distribuição antes do SMOTE:\", Counter(y))\n",
    "print(\"Distribuição depois do SMOTE:\", Counter(y_over))"
   ]
  },
  {
   "cell_type": "code",
   "execution_count": 17,
   "id": "b8891b07-e2f4-406c-84c7-2766253aa453",
   "metadata": {},
   "outputs": [
    {
     "name": "stderr",
     "output_type": "stream",
     "text": [
      "C:\\Users\\PC\\AppData\\Local\\Temp\\ipykernel_20308\\1953259570.py:2: FutureWarning: \n",
      "\n",
      "Passing `palette` without assigning `hue` is deprecated and will be removed in v0.14.0. Assign the `x` variable to `hue` and set `legend=False` for the same effect.\n",
      "\n",
      "  sns.countplot(x=y_over, palette='Blues_d', order=sorted(y_over.unique()))\n"
     ]
    },
    {
     "data": {
      "image/png": "[encoded data removed]",
      "text/plain": [
       "<Figure size 600x400 with 1 Axes>"
      ]
     },
     "metadata": {},
     "output_type": "display_data"
    }
   ],
   "source": [
    "plt.figure(figsize=(6,4))\n",
    "sns.countplot(x=y_over, palette='Blues_d', order=sorted(y_over.unique()))\n",
    "plt.xlabel('Categoria de Dependência')\n",
    "plt.ylabel('Quantidade de Usuários')\n",
    "plt.title('Distribuição das Classes Após SMOTE')\n",
    "plt.show()"
   ]
  },
  {
   "cell_type": "markdown",
   "id": "edcccaff",
   "metadata": {},
   "source": [
    "**Crie um DataFrame com os dados balanceados via SMOTE.**"
   ]
  },
  {
   "cell_type": "code",
   "execution_count": 121,
   "id": "75e2ebf5-b1c8-43ba-86e0-ce4264efeac8",
   "metadata": {},
   "outputs": [
    {
     "name": "stdout",
     "output_type": "stream",
     "text": [
      "(8295, 2757)\n",
      "Addiction_Category\n",
      "Baixo    2765\n",
      "Médio    2765\n",
      "Alto     2765\n",
      "Name: count, dtype: int64\n"
     ]
    },
    {
     "name": "stderr",
     "output_type": "stream",
     "text": [
      "C:\\Users\\PC\\AppData\\Local\\Temp\\ipykernel_17832\\1688980957.py:3: PerformanceWarning: DataFrame is highly fragmented.  This is usually the result of calling `frame.insert` many times, which has poor performance.  Consider joining all columns at once using pd.concat(axis=1) instead. To get a de-fragmented frame, use `newframe = frame.copy()`\n",
      "  df_balanced['Addiction_Category'] = y_over\n"
     ]
    },
    {
     "data": {
      "text/html": [
       "<div>\n",
       "<style scoped>\n",
       "    .dataframe tbody tr th:only-of-type {\n",
       "        vertical-align: middle;\n",
       "    }\n",
       "\n",
       "    .dataframe tbody tr th {\n",
       "        vertical-align: top;\n",
       "    }\n",
       "\n",
       "    .dataframe thead th {\n",
       "        text-align: right;\n",
       "    }\n",
       "</style>\n",
       "<table border=\"1\" class=\"dataframe\">\n",
       "  <thead>\n",
       "    <tr style=\"text-align: right;\">\n",
       "      <th></th>\n",
       "      <th>Age</th>\n",
       "      <th>School_Grade</th>\n",
       "      <th>Daily_Usage_Hours</th>\n",
       "      <th>Sleep_Hours</th>\n",
       "      <th>Academic_Performance</th>\n",
       "      <th>Social_Interactions</th>\n",
       "      <th>Exercise_Hours</th>\n",
       "      <th>Anxiety_Level</th>\n",
       "      <th>Depression_Level</th>\n",
       "      <th>Self_Esteem</th>\n",
       "      <th>...</th>\n",
       "      <th>Phone_Usage_Purpose_Gaming</th>\n",
       "      <th>Phone_Usage_Purpose_Other</th>\n",
       "      <th>Phone_Usage_Purpose_Social Media</th>\n",
       "      <th>Social_Media_Ratio</th>\n",
       "      <th>Checks_per_Hour</th>\n",
       "      <th>Sleep_Norm</th>\n",
       "      <th>Anxiety_Norm</th>\n",
       "      <th>Depression_Norm</th>\n",
       "      <th>Health_Impact_Index</th>\n",
       "      <th>Addiction_Category</th>\n",
       "    </tr>\n",
       "  </thead>\n",
       "  <tbody>\n",
       "    <tr>\n",
       "      <th>0</th>\n",
       "      <td>13</td>\n",
       "      <td>5</td>\n",
       "      <td>4.0</td>\n",
       "      <td>6.1</td>\n",
       "      <td>78</td>\n",
       "      <td>5</td>\n",
       "      <td>0.1</td>\n",
       "      <td>10</td>\n",
       "      <td>3</td>\n",
       "      <td>8</td>\n",
       "      <td>...</td>\n",
       "      <td>0</td>\n",
       "      <td>0</td>\n",
       "      <td>0</td>\n",
       "      <td>0.900000</td>\n",
       "      <td>21.500000</td>\n",
       "      <td>0.442857</td>\n",
       "      <td>1.000000</td>\n",
       "      <td>0.222222</td>\n",
       "      <td>1.779365</td>\n",
       "      <td>Alto</td>\n",
       "    </tr>\n",
       "    <tr>\n",
       "      <th>1</th>\n",
       "      <td>17</td>\n",
       "      <td>3</td>\n",
       "      <td>5.5</td>\n",
       "      <td>6.5</td>\n",
       "      <td>70</td>\n",
       "      <td>5</td>\n",
       "      <td>0.0</td>\n",
       "      <td>3</td>\n",
       "      <td>7</td>\n",
       "      <td>3</td>\n",
       "      <td>...</td>\n",
       "      <td>0</td>\n",
       "      <td>0</td>\n",
       "      <td>0</td>\n",
       "      <td>0.200000</td>\n",
       "      <td>17.454545</td>\n",
       "      <td>0.500000</td>\n",
       "      <td>0.222222</td>\n",
       "      <td>0.666667</td>\n",
       "      <td>1.388889</td>\n",
       "      <td>Alto</td>\n",
       "    </tr>\n",
       "    <tr>\n",
       "      <th>2</th>\n",
       "      <td>13</td>\n",
       "      <td>1</td>\n",
       "      <td>5.8</td>\n",
       "      <td>5.5</td>\n",
       "      <td>93</td>\n",
       "      <td>8</td>\n",
       "      <td>0.8</td>\n",
       "      <td>2</td>\n",
       "      <td>3</td>\n",
       "      <td>10</td>\n",
       "      <td>...</td>\n",
       "      <td>0</td>\n",
       "      <td>0</td>\n",
       "      <td>0</td>\n",
       "      <td>0.051724</td>\n",
       "      <td>23.620690</td>\n",
       "      <td>0.357143</td>\n",
       "      <td>0.111111</td>\n",
       "      <td>0.222222</td>\n",
       "      <td>0.976190</td>\n",
       "      <td>Alto</td>\n",
       "    </tr>\n",
       "    <tr>\n",
       "      <th>3</th>\n",
       "      <td>18</td>\n",
       "      <td>2</td>\n",
       "      <td>3.1</td>\n",
       "      <td>3.9</td>\n",
       "      <td>78</td>\n",
       "      <td>8</td>\n",
       "      <td>1.6</td>\n",
       "      <td>9</td>\n",
       "      <td>10</td>\n",
       "      <td>3</td>\n",
       "      <td>...</td>\n",
       "      <td>0</td>\n",
       "      <td>0</td>\n",
       "      <td>1</td>\n",
       "      <td>1.000000</td>\n",
       "      <td>41.290323</td>\n",
       "      <td>0.128571</td>\n",
       "      <td>0.888889</td>\n",
       "      <td>1.000000</td>\n",
       "      <td>2.760317</td>\n",
       "      <td>Alto</td>\n",
       "    </tr>\n",
       "    <tr>\n",
       "      <th>4</th>\n",
       "      <td>14</td>\n",
       "      <td>5</td>\n",
       "      <td>2.5</td>\n",
       "      <td>6.7</td>\n",
       "      <td>56</td>\n",
       "      <td>4</td>\n",
       "      <td>1.1</td>\n",
       "      <td>1</td>\n",
       "      <td>5</td>\n",
       "      <td>1</td>\n",
       "      <td>...</td>\n",
       "      <td>1</td>\n",
       "      <td>0</td>\n",
       "      <td>0</td>\n",
       "      <td>1.040000</td>\n",
       "      <td>38.400000</td>\n",
       "      <td>0.528571</td>\n",
       "      <td>0.000000</td>\n",
       "      <td>0.444444</td>\n",
       "      <td>0.915873</td>\n",
       "      <td>Alto</td>\n",
       "    </tr>\n",
       "  </tbody>\n",
       "</table>\n",
       "<p>5 rows × 2757 columns</p>\n",
       "</div>"
      ],
      "text/plain": [
       "   Age  School_Grade  Daily_Usage_Hours  Sleep_Hours  Academic_Performance  \\\n",
       "0   13             5                4.0          6.1                    78   \n",
       "1   17             3                5.5          6.5                    70   \n",
       "2   13             1                5.8          5.5                    93   \n",
       "3   18             2                3.1          3.9                    78   \n",
       "4   14             5                2.5          6.7                    56   \n",
       "\n",
       "   Social_Interactions  Exercise_Hours  Anxiety_Level  Depression_Level  \\\n",
       "0                    5             0.1             10                 3   \n",
       "1                    5             0.0              3                 7   \n",
       "2                    8             0.8              2                 3   \n",
       "3                    8             1.6              9                10   \n",
       "4                    4             1.1              1                 5   \n",
       "\n",
       "   Self_Esteem  ...  Phone_Usage_Purpose_Gaming  Phone_Usage_Purpose_Other  \\\n",
       "0            8  ...                           0                          0   \n",
       "1            3  ...                           0                          0   \n",
       "2           10  ...                           0                          0   \n",
       "3            3  ...                           0                          0   \n",
       "4            1  ...                           1                          0   \n",
       "\n",
       "   Phone_Usage_Purpose_Social Media  Social_Media_Ratio  Checks_per_Hour  \\\n",
       "0                                 0            0.900000        21.500000   \n",
       "1                                 0            0.200000        17.454545   \n",
       "2                                 0            0.051724        23.620690   \n",
       "3                                 1            1.000000        41.290323   \n",
       "4                                 0            1.040000        38.400000   \n",
       "\n",
       "   Sleep_Norm  Anxiety_Norm  Depression_Norm  Health_Impact_Index  \\\n",
       "0    0.442857      1.000000         0.222222             1.779365   \n",
       "1    0.500000      0.222222         0.666667             1.388889   \n",
       "2    0.357143      0.111111         0.222222             0.976190   \n",
       "3    0.128571      0.888889         1.000000             2.760317   \n",
       "4    0.528571      0.000000         0.444444             0.915873   \n",
       "\n",
       "   Addiction_Category  \n",
       "0                Alto  \n",
       "1                Alto  \n",
       "2                Alto  \n",
       "3                Alto  \n",
       "4                Alto  \n",
       "\n",
       "[5 rows x 2757 columns]"
      ]
     },
     "execution_count": 121,
     "metadata": {},
     "output_type": "execute_result"
    }
   ],
   "source": [
    "df_balanced = pd.DataFrame(X_over, columns=X.columns)\n",
    "df_balanced['Addiction_Category'] = y_over\n",
    "\n",
    "print(df_balanced.shape)\n",
    "print(df_balanced['Addiction_Category'].value_counts())\n",
    "df_balanced.head()"
   ]
  },
  {
   "cell_type": "markdown",
   "id": "7d2c0753",
   "metadata": {},
   "source": [
    "### 5.2 Undersampling\n",
    "\n",
    "**Aplique RandomUnderSampler para balancear as classes e compare com SMOTE.**"
   ]
  },
  {
   "cell_type": "code",
   "execution_count": 18,
   "id": "a5f219f8",
   "metadata": {},
   "outputs": [],
   "source": [
    "from imblearn.under_sampling import RandomUnderSampler\n",
    "from collections import Counter"
   ]
  },
  {
   "cell_type": "code",
   "execution_count": 19,
   "id": "6df98196-4b9c-4538-accf-8c56efea43c0",
   "metadata": {},
   "outputs": [
    {
     "name": "stdout",
     "output_type": "stream",
     "text": [
      "Distribuição original: Counter({'Alto': 2765, 'Médio': 221, 'Baixo': 14})\n",
      "Distribuição após RandomUnderSampler: Counter({'Alto': 14, 'Baixo': 14, 'Médio': 14})\n"
     ]
    }
   ],
   "source": [
    "X = df.drop(\"Addiction_Category\", axis=1)\n",
    "y = df[\"Addiction_Category\"]\n",
    "\n",
    "# ----------------------------\n",
    "#     RandomUnderSampler\n",
    "# ----------------------------\n",
    "rus = RandomUnderSampler(random_state=42)\n",
    "X_under, y_under = rus.fit_resample(X, y)\n",
    "\n",
    "print(\"Distribuição original:\", Counter(y))\n",
    "print(\"Distribuição após RandomUnderSampler:\", Counter(y_under))\n"
   ]
  },
  {
   "cell_type": "code",
   "execution_count": 124,
   "id": "60b3a31e-d2f9-4813-a293-a79f4fcf2c37",
   "metadata": {},
   "outputs": [
    {
     "name": "stderr",
     "output_type": "stream",
     "text": [
      "C:\\Users\\PC\\AppData\\Local\\Temp\\ipykernel_17832\\3838077139.py:2: FutureWarning: \n",
      "\n",
      "Passing `palette` without assigning `hue` is deprecated and will be removed in v0.14.0. Assign the `x` variable to `hue` and set `legend=False` for the same effect.\n",
      "\n",
      "  sns.countplot(x=y_under, palette='Blues_d', order=sorted(y_under.unique()))\n"
     ]
    },
    {
     "data": {
      "image/png": "[encoded data removed]",
      "text/plain": [
       "<Figure size 600x400 with 1 Axes>"
      ]
     },
     "metadata": {},
     "output_type": "display_data"
    }
   ],
   "source": [
    "plt.figure(figsize=(6,4))\n",
    "sns.countplot(x=y_under, palette='Blues_d', order=sorted(y_under.unique()))\n",
    "plt.xlabel('Categoria de Dependência')\n",
    "plt.ylabel('Quantidade de Usuários')\n",
    "plt.title('Distribuição das Classes Após RandomUnderSampler')\n",
    "plt.show()"
   ]
  },
  {
   "cell_type": "markdown",
   "id": "045e66eb",
   "metadata": {},
   "source": [
    "**Compare o tamanho dos datasets resultantes de cada técnica e escolha qual usar.**"
   ]
  },
  {
   "cell_type": "code",
   "execution_count": 20,
   "id": "9dcc5b74",
   "metadata": {},
   "outputs": [],
   "source": [
    "from imblearn.over_sampling import SMOTE\n",
    "from imblearn.under_sampling import RandomUnderSampler\n",
    "from collections import Counter"
   ]
  },
  {
   "cell_type": "code",
   "execution_count": 21,
   "id": "d2ba46ee-b9dc-4338-a80f-4f69d16181af",
   "metadata": {},
   "outputs": [
    {
     "name": "stdout",
     "output_type": "stream",
     "text": [
      "Dataset original: (3000, 2750) Counter({'Alto': 2765, 'Médio': 221, 'Baixo': 14})\n"
     ]
    }
   ],
   "source": [
    "# ----- Dataset original -----\n",
    "print(\"Dataset original:\", X.shape, Counter(y))"
   ]
  },
  {
   "cell_type": "code",
   "execution_count": 22,
   "id": "e7ac1069-925d-44f8-8b0a-e64c92682279",
   "metadata": {},
   "outputs": [
    {
     "name": "stdout",
     "output_type": "stream",
     "text": [
      "Após RandomUnderSampler: (42, 2750) Counter({'Alto': 14, 'Baixo': 14, 'Médio': 14})\n"
     ]
    }
   ],
   "source": [
    "# ----- RandomUnderSampler -----\n",
    "rus = RandomUnderSampler(random_state=42)\n",
    "X_under, y_under = rus.fit_resample(X, y)\n",
    "print(\"Após RandomUnderSampler:\", X_under.shape, Counter(y_under))"
   ]
  },
  {
   "cell_type": "code",
   "execution_count": 23,
   "id": "41816406-4626-4c0c-85b6-12742cb120b4",
   "metadata": {},
   "outputs": [
    {
     "name": "stdout",
     "output_type": "stream",
     "text": [
      "NaN restantes: 0\n",
      "Inf restantes: 0\n"
     ]
    }
   ],
   "source": [
    "X = X.replace([np.inf, -np.inf], np.nan)\n",
    "\n",
    "X = X.fillna(X.mean())\n",
    "\n",
    "print(\"NaN restantes:\", X.isna().sum().sum())\n",
    "print(\"Inf restantes:\", np.isinf(X.values).sum())\n"
   ]
  },
  {
   "cell_type": "code",
   "execution_count": 24,
   "id": "d931a19c-6051-4c0b-a0e9-11bd1522e4fb",
   "metadata": {},
   "outputs": [
    {
     "name": "stdout",
     "output_type": "stream",
     "text": [
      "Após SMOTE: (8295, 2750) Counter({'Alto': 2765, 'Médio': 2765, 'Baixo': 2765})\n"
     ]
    }
   ],
   "source": [
    "# ----- SMOTE -----\n",
    "smote = SMOTE(random_state=42)\n",
    "X_smote, y_smote = smote.fit_resample(X, y)\n",
    "print(\"Após SMOTE:\", X_smote.shape, Counter(y_smote))"
   ]
  },
  {
   "cell_type": "markdown",
   "id": "c8211233-be5a-48b6-802a-7fb6d32b3709",
   "metadata": {},
   "source": [
    "### Escolho usar o Smote pela quantidade da dados"
   ]
  },
  {
   "cell_type": "markdown",
   "id": "5a7ba761",
   "metadata": {},
   "source": [
    "## 6. Preparação Final dos Dados"
   ]
  },
  {
   "cell_type": "markdown",
   "id": "train_test",
   "metadata": {},
   "source": [
    "**Divida os dados balanceados em conjuntos de treino (80%) e teste (20%) com stratify.**"
   ]
  },
  {
   "cell_type": "code",
   "execution_count": 25,
   "id": "6c9f63c0",
   "metadata": {},
   "outputs": [],
   "source": [
    "from sklearn.model_selection import train_test_split"
   ]
  },
  {
   "cell_type": "code",
   "execution_count": 26,
   "id": "1999e805-5bf1-4f5b-8c1a-eb28347825a7",
   "metadata": {},
   "outputs": [
    {
     "name": "stdout",
     "output_type": "stream",
     "text": [
      "Tamanho treino: (6636, 2750) (6636,)\n",
      "Tamanho teste: (1659, 2750) (1659,)\n",
      "Distribuição treino: Addiction_Category\n",
      "Baixo    2212\n",
      "Médio    2212\n",
      "Alto     2212\n",
      "Name: count, dtype: int64\n",
      "Distribuição teste: Addiction_Category\n",
      "Baixo    553\n",
      "Médio    553\n",
      "Alto     553\n",
      "Name: count, dtype: int64\n"
     ]
    }
   ],
   "source": [
    "X_train, X_test, y_train, y_test = train_test_split(\n",
    "    X_smote, y_smote, \n",
    "    test_size=0.2,       \n",
    "    random_state=42,     \n",
    "    stratify=y_smote     \n",
    ")\n",
    "\n",
    "print(\"Tamanho treino:\", X_train.shape, y_train.shape)\n",
    "print(\"Tamanho teste:\", X_test.shape, y_test.shape)\n",
    "print(\"Distribuição treino:\", y_train.value_counts())\n",
    "print(\"Distribuição teste:\", y_test.value_counts())\n"
   ]
  },
  {
   "cell_type": "markdown",
   "id": "scale_data",
   "metadata": {},
   "source": [
    "**Aplique StandardScaler aos dados (muito importante para SVM!).**"
   ]
  },
  {
   "cell_type": "code",
   "execution_count": 27,
   "id": "scaler",
   "metadata": {},
   "outputs": [],
   "source": [
    "from sklearn.preprocessing import StandardScaler"
   ]
  },
  {
   "cell_type": "code",
   "execution_count": 28,
   "id": "536fa36f-5273-4de5-b8ee-59e79d761815",
   "metadata": {},
   "outputs": [
    {
     "name": "stdout",
     "output_type": "stream",
     "text": [
      "Shape treino escalado: (6636, 2750)\n",
      "Shape teste escalado: (1659, 2750)\n"
     ]
    }
   ],
   "source": [
    "scaler = StandardScaler()\n",
    "\n",
    "X_train_scaled = scaler.fit_transform(X_train)\n",
    "\n",
    "X_test_scaled = scaler.transform(X_test)\n",
    "\n",
    "print(\"Shape treino escalado:\", X_train_scaled.shape)\n",
    "print(\"Shape teste escalado:\", X_test_scaled.shape)\n"
   ]
  },
  {
   "cell_type": "code",
   "execution_count": 29,
   "id": "c29817be-6760-4db6-b5ee-71009f220cd8",
   "metadata": {},
   "outputs": [],
   "source": [
    "X_train_scaled = pd.DataFrame(X_train_scaled, columns=X_train.columns, index=X_train.index)\n",
    "X_test_scaled = pd.DataFrame(X_test_scaled, columns=X_test.columns, index=X_test.index)"
   ]
  },
  {
   "cell_type": "markdown",
   "id": "9d15ed67",
   "metadata": {},
   "source": [
    "## 7. Modelo SVM Baseline\n",
    "\n",
    "**Treine um modelo SVM básico com kernel RBF e parâmetros padrão. Avalie o desempenho.**"
   ]
  },
  {
   "cell_type": "code",
   "execution_count": 30,
   "id": "fe9d377a",
   "metadata": {},
   "outputs": [],
   "source": [
    "from sklearn.svm import SVC\n",
    "from sklearn.metrics import classification_report, confusion_matrix, accuracy_score"
   ]
  },
  {
   "cell_type": "code",
   "execution_count": null,
   "id": "699abee8-0f41-492b-adf4-cadaa1c3b08c",
   "metadata": {},
   "outputs": [],
   "source": [
    "svm_model = SVC(kernel='rbf', random_state=42)\n",
    "\n",
    "svm_model.fit(X_train_scaled, y_train)\n",
    "\n",
    "y_pred = svm_model.predict(X_test_scaled)\n",
    "\n",
    "print(\"Acurácia:\", accuracy_score(y_test, y_pred))\n",
    "print(\"\\nMatriz de Confusão:\\n\", confusion_matrix(y_test, y_pred))\n",
    "print(\"\\nRelatório de Classificação:\\n\", classification_report(y_test, y_pred))\n"
   ]
  },
  {
   "cell_type": "markdown",
   "id": "confusion_baseline",
   "metadata": {},
   "source": [
    "**Crie uma matriz de confusão visual para o modelo baseline.**"
   ]
  },
  {
   "cell_type": "code",
   "execution_count": null,
   "id": "conf_matrix",
   "metadata": {},
   "outputs": [],
   "source": [
    "from sklearn.metrics import confusion_matrix"
   ]
  },
  {
   "cell_type": "code",
   "execution_count": null,
   "id": "c41d89ad-0dfd-4abd-b113-f2e6a4a46480",
   "metadata": {},
   "outputs": [],
   "source": [
    "cm = confusion_matrix(y_test, y_pred)\n",
    "\n",
    "# Plotar\n",
    "plt.figure(figsize=(6,5))\n",
    "sns.heatmap(cm, annot=True, fmt=\"d\", cmap=\"Blues\", \n",
    "            xticklabels=svm_model.classes_, \n",
    "            yticklabels=svm_model.classes_)\n",
    "\n",
    "plt.xlabel(\"Predito\")\n",
    "plt.ylabel(\"Real\")\n",
    "plt.title(\"Matriz de Confusão - SVM Baseline\")\n",
    "plt.show()\n"
   ]
  },
  {
   "cell_type": "markdown",
   "id": "a07d8ba0",
   "metadata": {},
   "source": [
    "## 8. Validação Cruzada\n",
    "\n",
    "**Implemente validação cruzada estratificada com 5 folds para avaliar o modelo baseline.**"
   ]
  },
  {
   "cell_type": "code",
   "execution_count": null,
   "id": "01cfeb1f",
   "metadata": {},
   "outputs": [],
   "source": [
    "from sklearn.model_selection import StratifiedKFold, cross_val_score\n",
    "from sklearn.svm import SVC"
   ]
  },
  {
   "cell_type": "code",
   "execution_count": 139,
   "id": "54cbe105-5f31-471f-a575-0d01c99e2e87",
   "metadata": {},
   "outputs": [
    {
     "name": "stdout",
     "output_type": "stream",
     "text": [
      "Scores de cada fold: [0.93599398 0.93971364 0.91936699 0.94348154 0.93443858]\n",
      "Acurácia média: 0.9345989458966235\n",
      "Desvio padrão: 0.008234618764624075\n"
     ]
    }
   ],
   "source": [
    "svm_model = SVC(kernel='rbf', random_state=42)\n",
    "\n",
    "cv = StratifiedKFold(n_splits=5, shuffle=True, random_state=42)\n",
    "\n",
    "scores = cross_val_score(svm_model, X_train_scaled, y_train, cv=cv, scoring='accuracy')\n",
    "\n",
    "print(\"Scores de cada fold:\", scores)\n",
    "print(\"Acurácia média:\", np.mean(scores))\n",
    "print(\"Desvio padrão:\", np.std(scores))"
   ]
  },
  {
   "cell_type": "markdown",
   "id": "compare_kernels",
   "metadata": {},
   "source": [
    "**Compare diferentes kernels (linear, poly, rbf, sigmoid) usando validação cruzada.**"
   ]
  },
  {
   "cell_type": "code",
   "execution_count": null,
   "id": "1e947ef7",
   "metadata": {},
   "outputs": [],
   "source": [
    "from sklearn.model_selection import StratifiedKFold, cross_val_score\n",
    "from sklearn.svm import SVC"
   ]
  },
  {
   "cell_type": "code",
   "execution_count": null,
   "id": "f91a9e50-2205-41fa-8fe0-258b54ae790b",
   "metadata": {},
   "outputs": [],
   "source": [
    "kernels = ['linear', 'poly', 'rbf', 'sigmoid']\n",
    "\n",
    "cv = StratifiedKFold(n_splits=5, shuffle=True, random_state=42)\n",
    "\n",
    "results = {}\n",
    "for kernel in kernels:\n",
    "    print(f\"Treinando com kernel = {kernel}...\")  # debug\n",
    "    try:\n",
    "        model = SVC(kernel=kernel, random_state=42)\n",
    "        scores = cross_val_score(model, X_train_scaled, y_train, cv=cv, scoring='f1_macro')\n",
    "        results[kernel] = (np.mean(scores), np.std(scores))\n",
    "    except Exception as e:\n",
    "        print(f\"Erro no kernel {kernel}: {e}\")\n",
    "\n",
    "print(\"\\n===== RESULTADOS =====\")\n",
    "for kernel, (mean_score, std_score) in results.items():\n",
    "    print(f\"Kernel: {kernel}\")\n",
    "    print(f\"F1-macro médio: {mean_score:.4f} (+/- {std_score:.4f})\")\n",
    "    print(\"-\" * 40)\n"
   ]
  },
  {
   "cell_type": "markdown",
   "id": "7adad3c9",
   "metadata": {},
   "source": [
    "## 9. Otimização de Hiperparâmetros - Grid Search\n",
    "\n",
    "**Implemente GridSearchCV para encontrar os melhores hiperparâmetros:**\n",
    "- C: [0.1, 1, 10, 100]\n",
    "- gamma: ['scale', 'auto', 0.001, 0.01, 0.1]\n",
    "- kernel: ['rbf', 'poly', 'sigmoid']"
   ]
  },
  {
   "cell_type": "code",
   "execution_count": null,
   "id": "a64fdacc-e359-4160-9e31-28f0cacfcf1b",
   "metadata": {},
   "outputs": [],
   "source": [
    "from sklearn.model_selection import GridSearchCV\n",
    "from sklearn.svm import SVC"
   ]
  },
  {
   "cell_type": "code",
   "execution_count": null,
   "id": "a3935894-1a39-4702-920e-2312ce5d541a",
   "metadata": {},
   "outputs": [],
   "source": [
    "param_grid = {\n",
    "    'C': [0.1, 1, 10, 100],\n",
    "    'gamma': ['scale', 'auto', 0.001, 0.01, 0.1],\n",
    "    'kernel': ['rbf', 'poly', 'sigmoid']\n",
    "}"
   ]
  },
  {
   "cell_type": "code",
   "execution_count": null,
   "id": "f66b7abd",
   "metadata": {},
   "outputs": [],
   "source": [
    "svc = SVC(random_state=42)\n",
    "\n",
    "grid_search = GridSearchCV(\n",
    "    estimator=svc,\n",
    "    param_grid=param_grid,\n",
    "    scoring='accuracy',   \n",
    "    cv=5,                 \n",
    "    n_jobs=-1,            \n",
    "    verbose=2             \n",
    ")\n",
    "\n",
    "grid_search.fit(X_train_scaled, y_train)\n",
    "\n",
    "print(\"Melhores hiperparâmetros encontrados:\")\n",
    "print(grid_search.best_params_)\n",
    "\n",
    "print(\"\\nMelhor F1-macro:\")\n",
    "print(grid_search.best_score_)\n",
    "\n",
    "best_model = grid_search.best_estimator_\n"
   ]
  },
  {
   "cell_type": "code",
   "execution_count": null,
   "id": "eabf6566-c52c-4b70-a5e2-ab97a0fb8c5e",
   "metadata": {},
   "outputs": [],
   "source": [
    "results = pd.DataFrame(grid_search.cv_results_)\n",
    "results = results[['param_C', 'param_gamma', 'param_kernel', 'mean_test_score', 'std_test_score']]\n",
    "print(results.sort_values(by='mean_test_score', ascending=False).head(10))"
   ]
  },
  {
   "cell_type": "markdown",
   "id": "best_params_grid",
   "metadata": {},
   "source": [
    "**Exiba os melhores parâmetros encontrados e o score de validação cruzada.**"
   ]
  },
  {
   "cell_type": "code",
   "execution_count": null,
   "id": "show_best_grid",
   "metadata": {},
   "outputs": [],
   "source": [
    "print(\"Melhores hiperparâmetros:\", grid_search.best_params_)\n",
    "\n",
    "print(\"Melhor F1-macro (validação cruzada):\", grid_search.best_score_)"
   ]
  },
  {
   "cell_type": "code",
   "execution_count": null,
   "id": "c4ec1a52-e443-4d94-981c-06c6f7a13018",
   "metadata": {},
   "outputs": [],
   "source": [
    "best_model = grid_search.best_estimator_\n",
    "print(best_model)"
   ]
  },
  {
   "cell_type": "markdown",
   "id": "417cfd98",
   "metadata": {},
   "source": [
    "## 10. Otimização de Hiperparâmetros - Random Search\n",
    "\n",
    "**Implemente RandomizedSearchCV com uma distribuição mais ampla de parâmetros:**\n",
    "- C: distribuição uniforme entre 0.01 e 1000\n",
    "- gamma: distribuição log-uniforme entre 0.0001 e 1\n",
    "- Use 50 iterações"
   ]
  },
  {
   "cell_type": "code",
   "execution_count": null,
   "id": "f03cd5c7",
   "metadata": {},
   "outputs": [],
   "source": [
    "from sklearn.model_selection import RandomizedSearchCV\n",
    "from sklearn.svm import SVC\n",
    "from scipy.stats import uniform, loguniform"
   ]
  },
  {
   "cell_type": "code",
   "execution_count": null,
   "id": "c315f8b8-8c31-4e31-8b5d-c2014d229f25",
   "metadata": {},
   "outputs": [],
   "source": [
    "param_dist = {\n",
    "    'C': uniform(0.01, 1000),          \n",
    "    'gamma': loguniform(0.0001, 1),    \n",
    "    'kernel': ['rbf', 'poly', 'sigmoid']\n",
    "}"
   ]
  },
  {
   "cell_type": "code",
   "execution_count": null,
   "id": "4886da87-d9ad-4250-8c5f-888ed0bfaf63",
   "metadata": {},
   "outputs": [],
   "source": [
    "random_search = RandomizedSearchCV(\n",
    "    estimator=SVC(random_state=42),\n",
    "    param_distributions=param_dist,\n",
    "    n_iter=50,                \n",
    "    scoring='f1_macro',       \n",
    "    cv=5,                     \n",
    "    random_state=42,\n",
    "    n_jobs=-1                 \n",
    ")\n",
    "\n",
    "random_search.fit(X_train_scaled, y_train)\n",
    "\n",
    "print(\"Melhores parâmetros:\", random_search.best_params_)\n",
    "print(\"Melhor F1-macro (validação cruzada):\", random_search.best_score_)\n"
   ]
  },
  {
   "cell_type": "markdown",
   "id": "compare_methods",
   "metadata": {},
   "source": [
    "**Compare os resultados do Grid Search vs Random Search em termos de:**\n",
    "- Tempo de execução\n",
    "- Melhores parâmetros encontrados\n",
    "- Score de validação"
   ]
  },
  {
   "cell_type": "code",
   "execution_count": null,
   "id": "comparison",
   "metadata": {},
   "outputs": [],
   "source": [
    "import time\n",
    "from sklearn.model_selection import GridSearchCV, RandomizedSearchCV\n",
    "from sklearn.svm import SVC\n",
    "from scipy.stats import uniform, loguniform"
   ]
  },
  {
   "cell_type": "code",
   "execution_count": null,
   "id": "b3482cb2-6a8a-4a61-bf0f-bf3030efcf7e",
   "metadata": {},
   "outputs": [],
   "source": [
    "# ---------- Grid Search ----------\n",
    "param_grid = {\n",
    "    'C': [0.1, 1, 10, 100],\n",
    "    'gamma': ['scale', 'auto', 0.001, 0.01, 0.1],\n",
    "    'kernel': ['rbf', 'poly', 'sigmoid']\n",
    "}\n",
    "\n",
    "grid_model = SVC(random_state=42)\n",
    "\n",
    "start = time.time()\n",
    "grid_search = GridSearchCV(grid_model, param_grid, cv=5, scoring='f1_macro', n_jobs=-1)\n",
    "grid_search.fit(X_train_scaled, y_train)\n",
    "grid_time = time.time() - start"
   ]
  },
  {
   "cell_type": "code",
   "execution_count": null,
   "id": "5941e671-2845-4845-9d12-0f70764057b3",
   "metadata": {},
   "outputs": [],
   "source": [
    "# ---------- Random Search ----------\n",
    "param_dist = {\n",
    "    'C': uniform(0.01, 1000),          \n",
    "    'gamma': loguniform(0.0001, 1),    \n",
    "    'kernel': ['rbf', 'poly', 'sigmoid']\n",
    "}\n",
    "\n",
    "rand_model = SVC(random_state=42)\n",
    "\n",
    "start = time.time()\n",
    "random_search = RandomizedSearchCV(rand_model, param_distributions=param_dist, \n",
    "                                   n_iter=50, cv=5, scoring='f1_macro', \n",
    "                                   random_state=42, n_jobs=-1)\n",
    "random_search.fit(X_train_scaled, y_train)\n",
    "rand_time = time.time() - start"
   ]
  },
  {
   "cell_type": "code",
   "execution_count": null,
   "id": "fdc4bd1e-3e62-4dae-a0e9-5b0d2dadcbaa",
   "metadata": {},
   "outputs": [],
   "source": [
    "# ---------- Comparação ----------\n",
    "print(\"===== Grid Search =====\")\n",
    "print(\"Melhores parâmetros:\", grid_search.best_params_)\n",
    "print(\"Melhor F1-macro:\", grid_search.best_score_)\n",
    "print(f\"Tempo: {grid_time:.2f} segundos\")\n",
    "\n",
    "print(\"\\n===== Random Search =====\")\n",
    "print(\"Melhores parâmetros:\", random_search.best_params_)\n",
    "print(\"Melhor F1-macro:\", random_search.best_score_)\n",
    "print(f\"Tempo: {rand_time:.2f} segundos\")"
   ]
  },
  {
   "cell_type": "markdown",
   "id": "a28ac569",
   "metadata": {},
   "source": [
    "## 11. Modelo Final e Avaliação\n",
    "\n",
    "**Treine o modelo final com os melhores hiperparâmetros encontrados.**"
   ]
  },
  {
   "cell_type": "code",
   "execution_count": null,
   "id": "f4b34d3b",
   "metadata": {},
   "outputs": [],
   "source": [
    "from sklearn.svm import SVC\n",
    "from sklearn.metrics import accuracy_score, classification_report, confusion_matrix"
   ]
  },
  {
   "cell_type": "code",
   "execution_count": null,
   "id": "1923b4fc-4c0e-47d4-96d1-746f5560d1bd",
   "metadata": {},
   "outputs": [],
   "source": [
    "best_params = grid_search.best_params_\n",
    "\n",
    "final_model = SVC(**best_params, random_state=42)\n",
    "final_model.fit(X_train_scaled, y_train)\n",
    "\n",
    "y_pred = final_model.predict(X_test_scaled)\n",
    "\n",
    "print(\"Acurácia no teste:\", accuracy_score(y_test, y_pred))\n",
    "print(\"\\nRelatório de Classificação:\")\n",
    "print(classification_report(y_test, y_pred))"
   ]
  },
  {
   "cell_type": "code",
   "execution_count": null,
   "id": "114eaab8-80e3-444e-9ef2-e2835928b8a4",
   "metadata": {},
   "outputs": [],
   "source": [
    "cm = confusion_matrix(y_test, y_pred, labels=final_model.classes_)\n",
    "sns.heatmap(cm, annot=True, fmt='d', cmap='Blues',\n",
    "            xticklabels=final_model.classes_,\n",
    "            yticklabels=final_model.classes_)\n",
    "plt.xlabel(\"Previsto\")\n",
    "plt.ylabel(\"Real\")\n",
    "plt.title(\"Matriz de Confusão - Modelo Final\")\n",
    "plt.show()"
   ]
  },
  {
   "cell_type": "markdown",
   "id": "final_eval",
   "metadata": {},
   "source": [
    "**Gere um relatório de classificação completo e uma matriz de confusão para o modelo final.**"
   ]
  },
  {
   "cell_type": "code",
   "execution_count": null,
   "id": "final_report",
   "metadata": {},
   "outputs": [],
   "source": [
    "from sklearn.metrics import classification_report, confusion_matrix, accuracy_score"
   ]
  },
  {
   "cell_type": "code",
   "execution_count": null,
   "id": "5fbf4671-7603-42a5-afd6-9706b3ccd275",
   "metadata": {},
   "outputs": [],
   "source": [
    "y_pred = final_model.predict(X_test_scaled)"
   ]
  },
  {
   "cell_type": "code",
   "execution_count": null,
   "id": "e09ebe43-df9b-4863-9f6c-77f6f9270ed5",
   "metadata": {},
   "outputs": [],
   "source": [
    "print(\"Acurácia no teste:\", accuracy_score(y_test, y_pred))\n",
    "print(\"\\nRelatório de Classificação:\")\n",
    "print(classification_report(y_test, y_pred, digits=4))"
   ]
  },
  {
   "cell_type": "code",
   "execution_count": null,
   "id": "65442b11-e297-42f9-a6b7-8b629e229548",
   "metadata": {},
   "outputs": [],
   "source": [
    "cm = confusion_matrix(y_test, y_pred, labels=final_model.classes_)\n",
    "\n",
    "plt.figure(figsize=(6,4))\n",
    "sns.heatmap(cm, annot=True, fmt='d', cmap='Blues',\n",
    "            xticklabels=final_model.classes_,\n",
    "            yticklabels=final_model.classes_)\n",
    "plt.xlabel(\"Previsto\")\n",
    "plt.ylabel(\"Real\")\n",
    "plt.title(\"Matriz de Confusão - Modelo Final\")\n",
    "plt.show()"
   ]
  },
  {
   "cell_type": "markdown",
   "id": "feature_importance",
   "metadata": {},
   "source": [
    "**Para o modelo com kernel linear, visualize a importância das features através dos coeficientes.**"
   ]
  },
  {
   "cell_type": "code",
   "execution_count": null,
   "id": "f1053293-a1cf-4675-84bf-3c104f0a1db0",
   "metadata": {},
   "outputs": [],
   "source": [
    "linear_model = SVC(kernel=\"linear\", C=best_params.get(\"C\", 1), random_state=42)\n",
    "linear_model.fit(X_train_scaled, y_train)\n",
    "\n",
    "coef = linear_model.coef_"
   ]
  },
  {
   "cell_type": "code",
   "execution_count": null,
   "id": "77adc175-b069-4dbd-a8a8-bf6d12863ea0",
   "metadata": {},
   "outputs": [],
   "source": [
    "feature_importance = np.mean(np.abs(coef), axis=0)\n",
    "\n",
    "importance_df = pd.DataFrame({\n",
    "    \"Feature\": X_train.columns,\n",
    "    \"Importance\": feature_importance\n",
    "}).sort_values(by=\"Importance\", ascending=False)"
   ]
  },
  {
   "cell_type": "code",
   "execution_count": null,
   "id": "69fac5af-9682-4179-8c12-0199f7e99a4e",
   "metadata": {},
   "outputs": [],
   "source": [
    "plt.figure(figsize=(10,6))\n",
    "plt.barh(importance_df[\"Feature\"].head(20), importance_df[\"Importance\"].head(20))\n",
    "plt.gca().invert_yaxis()\n",
    "plt.title(\"Importância das Features - SVM Linear\")\n",
    "plt.xlabel(\"Coeficiente Médio Absoluto\")\n",
    "plt.show()\n",
    "\n",
    "importance_df.head(20)"
   ]
  },
  {
   "cell_type": "markdown",
   "id": "learning_curves",
   "metadata": {},
   "source": [
    "**Crie curvas de aprendizagem para avaliar se o modelo está sofrendo de overfitting ou underfitting.**"
   ]
  },
  {
   "cell_type": "code",
   "execution_count": null,
   "id": "curves",
   "metadata": {},
   "outputs": [],
   "source": [
    "from sklearn.model_selection import learning_curve"
   ]
  },
  {
   "cell_type": "code",
   "execution_count": null,
   "id": "5511cb61-778d-4dfc-8a47-b3cf0960f1ba",
   "metadata": {},
   "outputs": [],
   "source": [
    "svm_best = SVC(kernel=\"rbf\", C=best_params.get(\"C\", 1), gamma=best_params.get(\"gamma\", \"scale\"), random_state=42)\n",
    "\n",
    "train_sizes, train_scores, test_scores = learning_curve(\n",
    "    estimator=svm_best,\n",
    "    X=X_train_scaled,\n",
    "    y=y_train,\n",
    "    cv=5,               \n",
    "    scoring=\"accuracy\",  \n",
    "    n_jobs=-1,           \n",
    "    train_sizes=np.linspace(0.1, 1.0, 5),\n",
    "    shuffle=True,\n",
    "    random_state=42\n",
    ")"
   ]
  },
  {
   "cell_type": "code",
   "execution_count": null,
   "id": "149bef2b-ab0b-4b10-9513-f30ff6ca2191",
   "metadata": {},
   "outputs": [],
   "source": [
    "# Calcular médias e desvios\n",
    "train_mean = np.mean(train_scores, axis=1)\n",
    "train_std = np.std(train_scores, axis=1)\n",
    "test_mean = np.mean(test_scores, axis=1)\n",
    "test_std = np.std(test_scores, axis=1)"
   ]
  },
  {
   "cell_type": "code",
   "execution_count": null,
   "id": "ea1e41ca-d807-45f2-a4be-ba1dd4473d4c",
   "metadata": {},
   "outputs": [],
   "source": [
    "# Plotar curvas\n",
    "plt.figure(figsize=(8,6))\n",
    "plt.plot(train_sizes, train_mean, label=\"Treino\", color=\"blue\")\n",
    "plt.plot(train_sizes, test_mean, label=\"Validação\", color=\"orange\")"
   ]
  },
  {
   "cell_type": "code",
   "execution_count": null,
   "id": "3cf23634-5ec9-46af-90a3-8ef998a60e4b",
   "metadata": {},
   "outputs": [],
   "source": [
    "# Área sombreada = desvio padrão\n",
    "plt.fill_between(train_sizes, train_mean-train_std, train_mean+train_std, alpha=0.2, color=\"blue\")\n",
    "plt.fill_between(train_sizes, test_mean-test_std, test_mean+test_std, alpha=0.2, color=\"orange\")\n",
    "\n",
    "plt.title(\"Curva de Aprendizagem - SVM\")\n",
    "plt.xlabel(\"Tamanho do Conjunto de Treino\")\n",
    "plt.ylabel(\"Acurácia\")\n",
    "plt.legend(loc=\"best\")\n",
    "plt.grid(True)\n",
    "plt.show()"
   ]
  },
  {
   "cell_type": "markdown",
   "id": "conclusions",
   "metadata": {},
   "source": [
    "## 12. Conclusões\n",
    "\n",
    "**Escreva suas conclusões sobre:**\n",
    "- Qual técnica de balanceamento funcionou melhor?\n",
    "- Qual kernel teve melhor desempenho?\n",
    "- Grid Search vs Random Search: qual foi mais eficiente?\n",
    "- Quais features são mais importantes para prever vício em celular?\n",
    "- Limitações do modelo e possíveis melhorias"
   ]
  },
  {
   "cell_type": "markdown",
   "id": "conclusions_text",
   "metadata": {},
   "source": [
    "### 1. Qual técnica de balanceamento funcionou melhor?\n",
    "\n",
    "O SMOTE se mostrou mais eficiente do que o RandomUnderSampler, pois conseguiu aumentar a quantidade de amostras das classes minoritárias sem perder informações das classes majoritárias.\n",
    "\n",
    "O RandomUnderSampler reduziu demais o dataset, causando perda de dados e dificultando o aprendizado do modelo.\n",
    "\n",
    "Assim, o SMOTE foi a melhor escolha para balancear as classes."
   ]
  },
  {
   "cell_type": "markdown",
   "id": "0786a6e2-0d9a-4425-83a4-9bc5d8a8b468",
   "metadata": {},
   "source": [
    "### 2. Qual kernel teve melhor desempenho?\n",
    "\n",
    "O kernel RBF apresentou o melhor desempenho médio em validação cruzada, conseguindo capturar melhor as relações não lineares dos dados.\n",
    "\n",
    "O kernel linear apresentou desempenho razoável, mas inferior ao RBF.\n",
    "\n",
    "Os kernels poly e sigmoid tiveram desempenho instável e não superaram os demais."
   ]
  },
  {
   "cell_type": "markdown",
   "id": "173a248e-0870-4d92-b238-50dd9d5529f4",
   "metadata": {},
   "source": [
    "### 3. Grid Search vs Random Search: qual foi mais eficiente?\n",
    "\n",
    "O Grid Search foi mais sistemático e encontrou combinações ideais de hiperparâmetros, mas teve um custo computacional maior.\n",
    "\n",
    "O Random Search foi mais rápido, testou uma gama mais ampla de valores e obteve resultados competitivos, embora um pouco menos precisos.\n",
    "\n",
    "Em termos de eficiência, o Random Search foi melhor em tempo, mas o Grid Search garantiu parâmetros mais ajustados."
   ]
  },
  {
   "cell_type": "markdown",
   "id": "79f18d27-4fbc-457c-985d-553af5c2f098",
   "metadata": {},
   "source": [
    "### 4. Quais features são mais importantes para prever vício em celular?\n",
    "\n",
    "No modelo linear, observamos que as features relacionadas a tempo de uso diário, tempo em redes sociais, número de verificações do celular por hora e o índice de impacto na saúde (ansiedade, sono e depressão) foram as mais relevantes.\n",
    "\n",
    "Isso mostra que tanto hábitos de uso direto (tempo, frequência) quanto efeitos psicológicos (saúde mental) são determinantes para prever o nível de dependência."
   ]
  },
  {
   "cell_type": "markdown",
   "id": "b4e87187-ca1a-46cd-9375-bfd9b4842c0a",
   "metadata": {},
   "source": [
    "### 5. Limitações do modelo e possíveis melhorias\n",
    "\n",
    "O modelo ainda apresenta dificuldades em distinguir corretamente entre as classes \"Baixo\" e \"Médio\", possivelmente devido ao pequeno número de amostras originais nessas categorias.\n",
    "\n",
    "Além disso, o uso de SMOTE pode introduzir ruído artificial.\n",
    "\n",
    "Como melhorias futuras, recomenda-se:\n",
    "\n",
    "Coletar mais dados para as classes minoritárias.\n",
    "\n",
    "Testar outros algoritmos (Random Forest, XGBoost, Redes Neurais).\n",
    "\n",
    "Realizar seleção de features para reduzir dimensionalidade.\n",
    "\n",
    "Aplicar técnicas avançadas de balanceamento (como SMOTEENN ou ADASYN)."
   ]
  }
 ],
 "metadata": {
  "kernelspec": {
   "display_name": "Python [conda env:base] *",
   "language": "python",
   "name": "conda-base-py"
  },
  "language_info": {
   "codemirror_mode": {
    "name": "ipython",
    "version": 3
   },
   "file_extension": ".py",
   "mimetype": "text/x-python",
   "name": "python",
   "nbconvert_exporter": "python",
   "pygments_lexer": "ipython3",
   "version": "3.13.5"
  }
 },
 "nbformat": 4,
 "nbformat_minor": 5
}
