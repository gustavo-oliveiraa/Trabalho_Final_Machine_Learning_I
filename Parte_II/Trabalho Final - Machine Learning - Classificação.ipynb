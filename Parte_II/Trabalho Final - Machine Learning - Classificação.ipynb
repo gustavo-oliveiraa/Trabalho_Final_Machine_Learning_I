{
 "cells": [
  {
   "cell_type": "markdown",
   "metadata": {
    "id": "9zIrgY_HLpuy"
   },
   "source": [
    "# *Pós-graduação em Inteligência Artificial par Negócios*\n",
    "### *Trabalho Final - Machine Learning*\n",
    "\n",
    "**Disciplina:** Machine Learning\n",
    "\n",
    "**Professor:** André Juan Costa Vieira\n",
    "\n",
    "**Turma:** \n",
    "\n",
    "**Nomes dos Integrantes:** \n",
    "\n",
    "1-\n",
    "\n",
    "2-\n",
    "\n",
    "3-"
   ]
  },
  {
   "cell_type": "markdown",
   "metadata": {
    "id": "_Ztv1Ei9K7bU"
   },
   "source": [
    "## Qualidade de vinhos. "
   ]
  },
  {
   "cell_type": "markdown",
   "metadata": {},
   "source": [
    "Você foi contratado como cientista de dados pela famosa vinícola **\"Vini Tradizionali di Manduria\"** para analisar todos os aspectos dos vinhos produzidos. Diversas questões foram levantadas, como: Compreender os padrões das características que proporcionam boas safras e a qualidade de novos vinhos produzidos, antes que a comunidade mundial **\"Vins Spectaculaires\"** os deguste, apontar quais são os novos **\"blends\"** que podem ter continuidade no desenvolvimento, dentre várias outras atividades que visam as boas tomadas de decisões, sempre com o intuito de servir os melhores rótulos, aumentando os lucros e diminuindo os gastos.        \n",
    "\n",
    "A equipe de enólogos faz estudos frequentes para verificar as características de cada vinho, colocando-os em planilhas. Para melhor compreensão dos dados, descreveram o que significado de cada propriedade.   \n",
    "\n",
    "\n",
    "##### Descrição \n",
    "\n",
    "**0. Color:** Se o vinho é tinto vermelho ou branco\n",
    "\n",
    "**1. Fixed Acidity:** Qtd.de Ácido não volátil, aquele que não evapora fácil\n",
    "\n",
    "**2. Volatile Acidity:** Teor de ácido acético que leva a um sabor desagradável de vinagre\n",
    "\n",
    "**3. Citric Acid:** Um tipo de ácido que age como conservante para aumentar o nível de acidez em pequena quantidade para adicionar aroma e sabor\n",
    "\n",
    "**4. Residual Sugar:** Qtd. de açúcar restante depois da fermentação, mais de 45g/litro é doce\n",
    "\n",
    "**5. Chlorides:** Qtd. de sal\n",
    "\n",
    "**6. Free Sulfur Dioxide:** Componente que impede crescimento microbiano e a oxidação do vinho\n",
    "\n",
    "**7. Total Sulfur Dioxide:** Qtd. de SO2 (dióxido de enxofre)\n",
    "\n",
    "**8. Density:** Densidade do vinho,\n",
    "\n",
    "**9. pH:** Nível de acidez ou potencial hidrogeniônico\n",
    "\n",
    "**10. Sulphates:** Um adicional que contribui para níveis de SO2 e é \n",
    "antimicróbico e antioxidante \n",
    "\n",
    "**11. Alcohol:** Qtd. de álcool\n",
    "\n",
    "**12. Qualidade:** Notas de 3 a 9"
   ]
  },
  {
   "cell_type": "markdown",
   "metadata": {},
   "source": [
    "# Questões"
   ]
  },
  {
   "cell_type": "markdown",
   "metadata": {},
   "source": [
    "### Importe todas as bibliotecas necessárias na célula abaixo\n",
    "##### Organize-as de forma crescente em relação ao tamanho da frase"
   ]
  },
  {
   "cell_type": "code",
   "execution_count": null,
   "metadata": {},
   "outputs": [],
   "source": [
    "import os\n",
    "import sys\n",
    "import warnings\n",
    "import joblib\n",
    "\n",
    "import numpy as np\n",
    "import pandas as pd\n",
    "\n",
    "import matplotlib.pyplot as plt\n",
    "import seaborn as sns\n",
    "\n",
    "import plotly.express as px\n",
    "import plotly.graph_objects as go\n",
    "\n",
    "from scipy.stats import ks_2samp\n",
    "\n",
    "from sklearn.model_selection import train_test_split, GridSearchCV, cross_val_score\n",
    "from sklearn.impute import SimpleImputer\n",
    "from sklearn.pipeline import Pipeline\n",
    "from sklearn.compose import ColumnTransformer\n",
    "from sklearn.preprocessing import StandardScaler, OneHotEncoder, PolynomialFeatures\n",
    "\n",
    "from sklearn.metrics import (\n",
    "    accuracy_score, precision_score, recall_score, f1_score,\n",
    "    confusion_matrix, classification_report, roc_auc_score,\n",
    "    roc_curve, auc, mean_absolute_error, mean_squared_error, r2_score\n",
    ")\n",
    "\n",
    "from sklearn.linear_model import LogisticRegression, LinearRegression, Ridge\n",
    "from sklearn.ensemble import (\n",
    "    RandomForestClassifier, GradientBoostingClassifier, AdaBoostClassifier,\n",
    "    RandomForestRegressor, GradientBoostingRegressor\n",
    ")\n",
    "from sklearn.svm import SVC\n",
    "from sklearn.neighbors import KNeighborsClassifier\n",
    "from sklearn.naive_bayes import GaussianNB\n",
    "\n",
    "warnings.filterwarnings('ignore')\n",
    "plt.style.use('seaborn-v0_8-whitegrid')"
   ]
  },
  {
   "cell_type": "markdown",
   "metadata": {},
   "source": [
    "### Tratamento dos Dados\n",
    "\n",
    "\n",
    "Sir. Pounce, enólogo de longa data, especializado em vinhos italianos, descobriu que estão faltando alguns valores nas planilhas, e que outros dados foram alterados pelo ex-funcionário Smeagle, dispensado por degustar vinhos 'preciosos'.   \n",
    "\n",
    "**Utilize o dataset 'wines_preprocessing.csv' para fazer as questões abaixo.**\n",
    "\n",
    "1- Busque os valores faltantes no dataset e trate-os.\n",
    "\n",
    "2- Busque valores incongruentes no dataset, imprima e os trate. \n",
    "\n",
    "3- Valide seus tratamentos com o dataset **'wines.csv'**, demonstrando se foi possível manter as distribuições de forma adequada."
   ]
  },
  {
   "cell_type": "code",
   "execution_count": null,
   "metadata": {},
   "outputs": [],
   "source": [
    "df_pre = pd.read_csv(\"wines_pre_processing.csv\")\n",
    "df_val  = pd.read_csv(\"wines.csv\")\n",
    "\n",
    "df_pre.columns = [c.strip().lower().replace(\" \", \"_\") for c in df_pre.columns]\n",
    "df_val.columns = [c.strip().lower().replace(\" \", \"_\") for c in df_val.columns]\n",
    "\n",
    "print(\"Pré-processamento:\", df_pre.shape)\n",
    "print(\"Validação:\", df_val.shape)\n",
    "df_pre.head()\n"
   ]
  },
  {
   "cell_type": "code",
   "execution_count": null,
   "metadata": {},
   "outputs": [],
   "source": [
    "print(\"Valores faltantes antes do tratamento:\\n\", df_pre.isna().sum())\n",
    "\n",
    "num_cols = df_pre.select_dtypes(include=[np.number]).columns\n",
    "cat_cols = df_pre.select_dtypes(exclude=[np.number]).columns\n",
    "\n",
    "imputer_num = SimpleImputer(strategy=\"median\")\n",
    "imputer_cat = SimpleImputer(strategy=\"most_frequent\")\n",
    "\n",
    "df_pre[num_cols] = imputer_num.fit_transform(df_pre[num_cols])\n",
    "df_pre[cat_cols] = imputer_cat.fit_transform(df_pre[cat_cols])\n",
    "\n",
    "print(\"Valores faltantes depois do tratamento:\\n\", df_pre.isna().sum())\n"
   ]
  },
  {
   "cell_type": "code",
   "execution_count": null,
   "metadata": {},
   "outputs": [],
   "source": [
    "df_pre.columns = df_pre.columns.str.strip().str.lower()\n",
    "\n",
    "for col in df_pre.columns:\n",
    "    if col not in ['color']:\n",
    "        df_pre[col] = pd.to_numeric(df_pre[col], errors='coerce')\n",
    "\n",
    "print(df_pre.isna().sum())\n",
    "\n",
    "for col in df_pre.select_dtypes(include=['float64']).columns:\n",
    "    df_pre[col].fillna(df_pre[col].median(), inplace=True)\n",
    "\n",
    "df_pre.info()"
   ]
  },
  {
   "cell_type": "code",
   "execution_count": null,
   "metadata": {},
   "outputs": [],
   "source": [
    "mask_incongruente = (\n",
    "    (df_pre[\"ph\"] <= 0) | (df_pre[\"ph\"] > 14) |\n",
    "    (df_pre[\"alcohol\"] < 0) | (df_pre[\"alcohol\"] > 20) |\n",
    "    (df_pre[\"quality\"] < 0) | (df_pre[\"quality\"] > 10)\n",
    ")\n",
    "\n",
    "print(\"Qtd valores incongruentes:\", mask_incongruente.sum())\n",
    "display(df_pre[mask_incongruente].head())\n",
    "\n",
    "df_pre = df_pre[~mask_incongruente].reset_index(drop=True)\n",
    "print(\"Shape após tratamento:\", df_pre.shape)\n"
   ]
  },
  {
   "cell_type": "code",
   "execution_count": null,
   "metadata": {},
   "outputs": [],
   "source": [
    "for col in [\"alcohol\", \"residual_sugar\", \"ph\", \"quality\"]:\n",
    "    stat, p = ks_2samp(df_pre[col], df_val[col])\n",
    "    print(f\"Coluna {col}: KS={stat:.3f}, p={p:.3f}\")\n"
   ]
  },
  {
   "cell_type": "markdown",
   "metadata": {},
   "source": [
    "O dono da vinícola, Sir. Donald Shelby, tem um filho cursando especialização em ciência de dados, que, ao deparar-se com o dataset, pediu a você que, ao invés de ficar tratando dados com 'essas' técnicas triviais, fizesse um algoritmo de regressão logística para encontrar os valores faltantes na coluna 'Alcohol'. O Sr. Shelby é um homem conhecido como mafioso e considera seu filho um gênio, por isso, você, com fortes receios de sofrer consequências inusitadas por ordem do Don Corleone da atualidade, acatou o \"pedido\".\n",
    "\n",
    "\n",
    "4- Desenvolver um algoritmo de regressão logística visando preencher os dados faltantes da coluna \"Alcohol\". Em seguida, valide os resultados com o dataset **\"wines.csv\"**, apresentando todas as métricas de classificação estudadas. \n",
    "\n",
    "5- Você, ao ver os resultados encontrados, se adiantou e fez um modelo de regressão polinomial para dirimir a questão. Em seguida, validou os resultados com o dataset **\"wines.csv\"**, utilizando todas as métricas de regressão estudadas. Por fim, escreverá um e-mail explicando o motivo <u>técnico</u> que o levou a não utilizar a regressão logística neste problema, bem como qual a melhor técnica que encontrou para tratar os valores faltantes."
   ]
  },
  {
   "cell_type": "code",
   "execution_count": null,
   "metadata": {},
   "outputs": [],
   "source": [
    "df_lr = df_pre.copy()\n",
    "\n",
    "mask_nan = df_lr[\"alcohol\"].sample(frac=0.2, random_state=42).index\n",
    "df_lr.loc[mask_nan, \"alcohol\"] = np.nan\n",
    "\n",
    "X = df_lr.drop(columns=[\"alcohol\"])\n",
    "y = (df_lr[\"alcohol\"].dropna() > df_lr[\"alcohol\"].median()).astype(int)  # binário\n",
    "\n",
    "X_train, X_test, y_train, y_test = train_test_split(\n",
    "    X.loc[y.index], y, test_size=0.2, random_state=42\n",
    ")\n",
    "\n",
    "log_reg = LogisticRegression(max_iter=1000)\n",
    "log_reg.fit(X_train.select_dtypes(include=np.number), y_train)\n",
    "\n",
    "y_pred = log_reg.predict(X_test.select_dtypes(include=np.number))\n",
    "\n",
    "print(\"Métricas Regressão Logística:\")\n",
    "print(classification_report(y_test, y_pred))\n",
    "print(\"ROC AUC:\", roc_auc_score(y_test, y_pred))\n"
   ]
  },
  {
   "cell_type": "code",
   "execution_count": null,
   "metadata": {},
   "outputs": [],
   "source": [
    "df_poly = df_pre.copy()\n",
    "\n",
    "X = df_poly.drop(columns=[\"alcohol\"])\n",
    "y = df_poly[\"alcohol\"]\n",
    "\n",
    "X_train, X_test, y_train, y_test = train_test_split(X, y, test_size=0.2, random_state=42)\n",
    "\n",
    "poly = PolynomialFeatures(degree=2, include_bias=False)\n",
    "X_train_poly = poly.fit_transform(X_train.select_dtypes(include=np.number))\n",
    "X_test_poly  = poly.transform(X_test.select_dtypes(include=np.number))\n",
    "\n",
    "lin_reg = LinearRegression()\n",
    "lin_reg.fit(X_train_poly, y_train)\n",
    "y_pred = lin_reg.predict(X_test_poly)\n",
    "\n",
    "print(\"Métricas Regressão Polinomial:\")\n",
    "print(\"MAE:\", mean_absolute_error(y_test, y_pred))\n",
    "print(\"RMSE:\", mean_squared_error(y_test, y_pred) ** 0.5)\n",
    "print(\"R²:\", r2_score(y_test, y_pred))"
   ]
  },
  {
   "cell_type": "markdown",
   "metadata": {
    "id": "Hwq_BXhNK7v5"
   },
   "source": [
    "### Análise Exploratória\n",
    "**Utilize o dataset 'wines.csv'**\n",
    "\n",
    "A enóloga Marilyn Monroe, direta do Sir. Pounce, tomou conhecimento de suas habilidades exploratórias e requereu gráficos \"chiques, reuscados, enfeitados e nada triviais\" que mostrassem, de forma interativa todos os dados e seus respectivos insights. A principal exigência é de que as paletas de cores sejam harmônicas, de modo que possam ser utilizadas em apresentações. Para isso, sugeriu a documentação a seguir:\n",
    "[Colors Palettes](https://plotly.com/python/builtin-colorscales/)\n",
    "\n",
    "1- Utilize um countplot para averiguar a quantidade de vinhos por cada avaliação de qualidade. \n",
    "Separare entre vinhos tintos e brancos, fazendo um gráfico para cada tipo.\n",
    "\n",
    "2- Utilize um jointplot para descrever a relação entre álcool e açucar. Utilizar o tipo 'KDE'.\n",
    "\n",
    "3- Utilize um boxplot para verificar se existe algum vinho que seja considerado um outlier. Utilize **x = 'quality'** e **y='residual sugar'**. Identificando os outliers, crie um novo dataframe, utilize um barplot para contabilizar a quantidade de vinhos tintos\n",
    "e brancos por qualidade de modo que as barras estejam sobrepostas em relação ao tipo de vinho.   \n",
    "\n",
    "4- Faça um gráfico de correlação e encontre quais são as 'features' que contém correlações\n",
    "positivas e negativas fortes  entre si. Em seguida, utilize o scatterplot, colocando no eixo \"x\" e \"y\"\n",
    "cada variável correlata e descreva por escrito o motivo da distribuição e o sentido vetorial estarem apresentados\n",
    "das respectivas formas.\n",
    "\n",
    "**ps**: Para este problema, entenda como correlações fortes valores menores que -0.4 e maiores que 0.4."
   ]
  },
  {
   "cell_type": "code",
   "execution_count": null,
   "metadata": {},
   "outputs": [],
   "source": [
    "sns.countplot(data=df_val, x=\"quality\", hue=\"color\")\n",
    "plt.title(\"Distribuição de qualidade por tipo de vinho\")\n",
    "plt.show()"
   ]
  },
  {
   "cell_type": "code",
   "execution_count": null,
   "metadata": {},
   "outputs": [],
   "source": [
    "sns.jointplot(data=df_val, x=\"alcohol\", y=\"residual_sugar\", kind=\"kde\", hue=\"color\")\n",
    "plt.show()"
   ]
  },
  {
   "cell_type": "code",
   "execution_count": null,
   "metadata": {},
   "outputs": [],
   "source": [
    "sns.boxplot(data=df_val, x=\"quality\", y=\"residual_sugar\")\n",
    "plt.title(\"Boxplot açúcar residual por qualidade\")\n",
    "plt.show()"
   ]
  },
  {
   "cell_type": "code",
   "execution_count": null,
   "metadata": {},
   "outputs": [],
   "source": [
    "q3 = df_val[\"residual_sugar\"].quantile(0.75)\n",
    "iqr = q3 - df_val[\"residual_sugar\"].quantile(0.25)\n",
    "limite = q3 + 1.5 * iqr\n",
    "df_sem_outlier = df_val[df_val[\"residual_sugar\"] <= limite]\n",
    "\n",
    "sns.countplot(data=df_sem_outlier, x=\"quality\", hue=\"color\", dodge=False)\n",
    "plt.title(\"Vinhos sem outliers - distribuição de qualidade por cor\")\n",
    "plt.show()"
   ]
  },
  {
   "cell_type": "code",
   "execution_count": null,
   "metadata": {},
   "outputs": [],
   "source": [
    "corr = df_val.corr(numeric_only=True)\n",
    "plt.figure(figsize=(10,6))\n",
    "sns.heatmap(corr, annot=True, cmap=\"RdBu\", center=0)\n",
    "plt.title(\"Matriz de correlação\")\n",
    "plt.show()"
   ]
  },
  {
   "cell_type": "markdown",
   "metadata": {},
   "source": [
    "# Modelos Supervisionados "
   ]
  },
  {
   "cell_type": "markdown",
   "metadata": {},
   "source": [
    "### Classificação\n",
    "**Utilize o dataset 'wine_classification.csv'.**\n",
    "\n",
    "Após alguns meses, o filho do Sir. Donald Shelby, Chuck Norris Shelby, mais conhecido como \"El Chavo del Ocho\", em decorrência de seu \"notório\" saber e comportamento extrovertido, ~para ser eufemista~, foi promovido a \"*head*\" de Machine Learning, vulgo seu chefe. \n",
    "\n",
    "Com suas inusitadas e inovadoras ideias, pediu que você criasse três modelos de árvores, um do tipo \"random\" e dois do tipo \"boost\", pois havia descoberto que a otimização pelo gradiente descendente era considerada como \"*The American Dream*\". Não obstante, gostaria de analisar o gráfico de importância das features.\n",
    "\n",
    "Ademais, requereu que utilizasse o algoritmo SVM, pelo fato do \"kernel trick\" performar bem em problemas de altas dimensionalidades. Um KNN \"cairia bem também, vamos utilizar por mero desencargo de consciência\", disse.  \n",
    "\n",
    "Em seu discurso inflamado, se pronunciava: \"Precisamos realizar tais façanhas nunca vistas na história da Inteligência Artificial, desde que as redes neurais foram introduzidas por Walter Pitts e Warren McCulloch em 1943. Vamos predizer tudo que quisermos, independentemente da uva utilizada na produção. Eu transformarei nossa vinícola na melhor do mundo, pois sou detentor do saber\". Tudo dito numa reunião contendo 12 pessoas, trabalhadores braçais inclusos. Tal discurso invejou os oráculos delfos e os lembraram de Sócrates em seu julgamento, antes de morrer. \n",
    "\n",
    "Após tamanhas proclamações, apontou em sua direção e disse: **\"VOCÊ, É..., VOCÊ MESMO**, irás fazer todo o processo por conta própria, e eu direi se o que fazes está correto! Não utilizarás Auto-ML, pois eu, ~professor~, quero ter certeza de que entende seu labor e suas nuâncias\". \n",
    "\n",
    "Você, cansado e entediado de tantas lorotas, se retirou da reunião com \"dores\" na região abdominal, porém ainda recebeu um e-mail lhe instruindo a comparar os resultados de todas as implementações, escolher o melhor modelo e utilizar métodos de otimização de hiperparâmetro.  \n",
    "\n",
    "Em suma?\n",
    "\n",
    "1- Crie um pipeline que contenha ao menos 05 tipos diferentes de algoritmos de classificação. \n",
    "\n",
    "2- Crie um DataFrame que contenha todos os resultados de todos os algoritmos utilizados, inclusive a métrica ROC AUC.\n",
    "\n",
    "3- Comparar os resultados, escolher o melhor modelo e otimizar os parâmetros. Ao fim, faça um gráfico da ROC AUC.\n"
   ]
  },
  {
   "cell_type": "code",
   "execution_count": null,
   "metadata": {},
   "outputs": [],
   "source": [
    "df_class = pd.read_csv(\"wine_classification.csv\")\n",
    "df_class.columns = [c.strip().lower().replace(\" \", \"_\") for c in df_class.columns]\n",
    "\n",
    "X = df_class.drop(columns=[\"quality\"])\n",
    "y = df_class[\"quality\"]\n",
    "\n",
    "X_train, X_test, y_train, y_test = train_test_split(X, y, test_size=0.2, random_state=42)\n",
    "\n",
    "modelos = {\n",
    "    \"RandomForest\": RandomForestClassifier(),\n",
    "    \"GradientBoosting\": GradientBoostingClassifier(),\n",
    "    \"AdaBoost\": AdaBoostClassifier(),\n",
    "    \"SVM\": SVC(probability=True),\n",
    "    \"KNN\": KNeighborsClassifier()\n",
    "}\n",
    "\n",
    "resultados = []\n",
    "for nome, modelo in modelos.items():\n",
    "    modelo.fit(X_train, y_train)\n",
    "    y_pred = modelo.predict(X_test)\n",
    "    y_proba = modelo.predict_proba(X_test) if hasattr(modelo, \"predict_proba\") else None\n",
    "    \n",
    "    acc = accuracy_score(y_test, y_pred)\n",
    "    f1 = f1_score(y_test, y_pred, average=\"weighted\")\n",
    "    auc_ = roc_auc_score(y_test, y_proba, multi_class=\"ovr\") if y_proba is not None else None\n",
    "    \n",
    "    resultados.append([nome, acc, f1, auc_])\n",
    "\n",
    "df_resultados = pd.DataFrame(resultados, columns=[\"Modelo\", \"Acurácia\", \"F1\", \"ROC AUC\"])\n",
    "df_resultados"
   ]
  },
  {
   "cell_type": "markdown",
   "metadata": {},
   "source": [
    "Após todos seus esforços, o amado chefe lhe pediu para utilizar um algoritmo de classificação que ele ouviu falar, criado pelo matemático inglês Thomas Bayes. Cabe a você, mais uma vez aplicar o algoritmo e apresentar os resultado. Em seguida, faça uma breve explicação do principal problema desse método para solucionar problemas complexos.  "
   ]
  },
  {
   "cell_type": "code",
   "execution_count": null,
   "metadata": {},
   "outputs": [],
   "source": [
    "nb = GaussianNB()\n",
    "nb.fit(X_train, y_train)\n",
    "y_pred = nb.predict(X_test)\n",
    "\n",
    "print(\"Resultados Naive Bayes:\")\n",
    "print(classification_report(y_test, y_pred))"
   ]
  },
  {
   "cell_type": "markdown",
   "metadata": {},
   "source": [
    "Dr. Anton Ego marcou uma data para comparecer na vinícula e degustar seus melhores rótulos. Nascido na França e o enólogo mais famoso do mundo, Anton era temido pelas suas análises minuciosas e certeiras. As críticas eram tão serveras que tão severas que 80% das vinículas eram fechadas pela falta de aceitação do mercado. Apenas =~ 19.99% sobreviviam sem danos consideráveis e somente $0.1x10^{-15}$% se tornavam uma lenda.\n",
    "\n",
    "Chuck tomava leite da papoula para suportar tamanha disruptura emocional. Sir.Donald, tomado pela a ansiedade, estava com seus pruridos mentais em Nárnia até que sua esposa, Srta.Audrey Hepburn assumiu a liderança do projeto com a serenidade de um bebê.\n",
    "\n",
    "Primeiramente ordenou que todos os vinhos que já vinham há algum tempo em processo de envelhecimento em barricas de carvalho fossem engarrafados e que amostras de todos fossem coletadas para análise. \n",
    "\n",
    "Sua maior preocupação é que somente sejam servidos os vinhos de nota oito ou nove, pois ambos são de mesmíssima qualidade, ficando a avaliação a critério da subjetividade palatal do degustador. Em **<u>hipótese nenhuma</u>** um vinho que não tenha tais notas pode ser servido.\n",
    "\n",
    "De todas as novas garrafas, serão servidas somente três que você autorizar. O Dr. Ego só toma vinho tinto!\n",
    "\n",
    "\n",
    "Sabendo que você já tinha um modelo validado para solucionar este tipo de problema, pediu que o usasse com a base **'desafio.csv''**. Ao fim, crie uma célula e copie os 3 vinhos que escolheu para registrar sua resposta. \n"
   ]
  },
  {
   "cell_type": "code",
   "execution_count": null,
   "metadata": {},
   "outputs": [],
   "source": [
    "df_desafio = pd.read_csv(\"desafio.csv\")\n",
    "df_desafio.columns = [c.strip().lower().replace(\" \", \"_\") for c in df_desafio.columns]\n",
    "\n",
    "df_selecao = df_desafio[df_desafio[\"quality\"].isin([8,9])]\n",
    "\n",
    "df_resposta = df_selecao.sample(3, random_state=42)\n",
    "df_resposta\n",
    "\n",
    "# Por falta da tabela \"color\", filtrei apenas pela qualidade (8 ou 9)"
   ]
  },
  {
   "cell_type": "code",
   "execution_count": null,
   "metadata": {},
   "outputs": [],
   "source": [
    "# --- CÉLULA: desafio final ---\n",
    "df_desafio = pd.read_csv(\"desafio.csv\")\n",
    "df_desafio.info()\n"
   ]
  },
  {
   "attachments": {
    "1828c07d-bb2b-48cf-a042-fc05d295eb05.png": {
     "image/png": "[encoded data removed]"
    }
   },
   "cell_type": "markdown",
   "metadata": {},
   "source": [
    "![Captura de tela 2025-09-30 005827.png](attachment:1828c07d-bb2b-48cf-a042-fc05d295eb05.png)"
   ]
  }
 ],
 "metadata": {
  "colab": {
   "collapsed_sections": [],
   "name": "Copy of Trabalho Final - Deep Learning.ipynb",
   "provenance": [
    {
     "file_id": "1U1wMksgxY78Qu8izaZCT7e9n8lBz2EUk",
     "timestamp": 1648951582017
    }
   ]
  },
  "kernelspec": {
   "display_name": "Python [conda env:base] *",
   "language": "python",
   "name": "conda-base-py"
  },
  "language_info": {
   "codemirror_mode": {
    "name": "ipython",
    "version": 3
   },
   "file_extension": ".py",
   "mimetype": "text/x-python",
   "name": "python",
   "nbconvert_exporter": "python",
   "pygments_lexer": "ipython3",
   "version": "3.13.5"
  }
 },
 "nbformat": 4,
 "nbformat_minor": 4
}
